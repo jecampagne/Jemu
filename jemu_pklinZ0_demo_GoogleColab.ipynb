{
  "cells": [
    {
      "cell_type": "markdown",
      "metadata": {
        "id": "view-in-github",
        "colab_type": "text"
      },
      "source": [
        "<a href=\"https://colab.research.google.com/github/jecampagne/Jemu/blob/main/jemu_pklinZ0_demo_GoogleColab.ipynb\" target=\"_parent\"><img src=\"https://colab.research.google.com/assets/colab-badge.svg\" alt=\"Open In Colab\"/></a>"
      ]
    },
    {
      "cell_type": "code",
      "source": [
        "! pip -q install jax_cosmo"
      ],
      "metadata": {
        "id": "dErsy6H_aQye"
      },
      "id": "dErsy6H_aQye",
      "execution_count": 4,
      "outputs": []
    },
    {
      "cell_type": "code",
      "source": [
        "from google.colab import drive\n",
        "drive.mount('/content/gdrive')"
      ],
      "metadata": {
        "colab": {
          "base_uri": "https://localhost:8080/"
        },
        "id": "tvdcVp6Naoiv",
        "outputId": "91914dca-a24e-40cf-fde5-b9e4b4fc22af"
      },
      "id": "tvdcVp6Naoiv",
      "execution_count": 5,
      "outputs": [
        {
          "output_type": "stream",
          "name": "stdout",
          "text": [
            "Drive already mounted at /content/gdrive; to attempt to forcibly remount, call drive.mount(\"/content/gdrive\", force_remount=True).\n"
          ]
        }
      ]
    },
    {
      "cell_type": "code",
      "source": [
        "cd /content/gdrive/MyDrive"
      ],
      "metadata": {
        "colab": {
          "base_uri": "https://localhost:8080/"
        },
        "id": "HxpdeihYcbfF",
        "outputId": "5487d616-f4c6-4371-ddab-c9cce8fd11d2"
      },
      "id": "HxpdeihYcbfF",
      "execution_count": 6,
      "outputs": [
        {
          "output_type": "stream",
          "name": "stdout",
          "text": [
            "/content/gdrive/MyDrive\n"
          ]
        }
      ]
    },
    {
      "cell_type": "code",
      "source": [
        "! git clone https://github.com/jecampagne/Jemu.git"
      ],
      "metadata": {
        "colab": {
          "base_uri": "https://localhost:8080/"
        },
        "id": "KI8DLQbfa3Vk",
        "outputId": "a8a1f1aa-d566-4671-c40d-c139d1cd371c"
      },
      "id": "KI8DLQbfa3Vk",
      "execution_count": 7,
      "outputs": [
        {
          "output_type": "stream",
          "name": "stdout",
          "text": [
            "Cloning into 'Jemu'...\n",
            "remote: Enumerating objects: 21039, done.\u001b[K\n",
            "remote: Counting objects: 100% (4963/4963), done.\u001b[K\n",
            "remote: Compressing objects: 100% (145/145), done.\u001b[K\n",
            "remote: Total 21039 (delta 4851), reused 4920 (delta 4816), pack-reused 16076\u001b[K\n",
            "Receiving objects: 100% (21039/21039), 513.41 MiB | 16.08 MiB/s, done.\n",
            "Resolving deltas: 100% (20207/20207), done.\n",
            "Checking out files: 100% (5068/5068), done.\n"
          ]
        }
      ]
    },
    {
      "cell_type": "code",
      "source": [
        "cd /content/gdrive/MyDrive/Jemu"
      ],
      "metadata": {
        "colab": {
          "base_uri": "https://localhost:8080/"
        },
        "id": "u9H_75vxb7HC",
        "outputId": "e46810b7-8467-4aa5-96c1-bbf7e374af61"
      },
      "id": "u9H_75vxb7HC",
      "execution_count": 8,
      "outputs": [
        {
          "output_type": "stream",
          "name": "stdout",
          "text": [
            "/content/gdrive/MyDrive/Jemu\n"
          ]
        }
      ]
    },
    {
      "cell_type": "code",
      "source": [
        "# In case Pyccl is needed : a bit long...\n",
        "#!pip install -q condacolab\n",
        "#import condacolab\n",
        "#condacolab.install()\n",
        "#!mamba install pyccl\n",
        "#! pip install -q  classy"
      ],
      "metadata": {
        "colab": {
          "base_uri": "https://localhost:8080/"
        },
        "id": "w2lKtfdebrsT",
        "outputId": "6dd37aea-1787-4f56-af09-1753db26df2c"
      },
      "id": "w2lKtfdebrsT",
      "execution_count": 26,
      "outputs": [
        {
          "output_type": "stream",
          "name": "stdout",
          "text": [
            "Looking in indexes: https://pypi.org/simple, https://us-python.pkg.dev/colab-wheels/public/simple/\n",
            "Collecting classy\n",
            "  Downloading classy-2.9.4.0.tar.gz (639 kB)\n",
            "\u001b[2K     \u001b[90m━━━━━━━━━━━━━━━━━━━━━━━━━━━━━━━━━━━━━━\u001b[0m \u001b[32m639.1/639.1 kB\u001b[0m \u001b[31m11.4 MB/s\u001b[0m eta \u001b[36m0:00:00\u001b[0m\n",
            "\u001b[?25h  Installing build dependencies ... \u001b[?25l\u001b[?25hdone\n",
            "  Getting requirements to build wheel ... \u001b[?25l\u001b[?25hdone\n",
            "  Preparing metadata (pyproject.toml) ... \u001b[?25l\u001b[?25hdone\n",
            "Requirement already satisfied: numpy in /usr/local/lib/python3.7/site-packages (from classy) (1.21.6)\n",
            "Building wheels for collected packages: classy\n",
            "  Building wheel for classy (pyproject.toml) ... \u001b[?25l\u001b[?25hdone\n",
            "  Created wheel for classy: filename=classy-2.9.4.0-cp37-cp37m-linux_x86_64.whl size=1892278 sha256=b87262b5125a5aca17624995dd1fa62d259a6b5181edd09d2093374e3a52d1c1\n",
            "  Stored in directory: /root/.cache/pip/wheels/12/02/34/38a71e6c87f8a8af6fba4a950e71ec38e9fcfed846662d9a0f\n",
            "Successfully built classy\n",
            "Installing collected packages: classy\n",
            "Successfully installed classy-2.9.4.0\n",
            "\u001b[33mWARNING: Running pip as the 'root' user can result in broken permissions and conflicting behaviour with the system package manager. It is recommended to use a virtual environment instead: https://pip.pypa.io/warnings/venv\u001b[0m\u001b[33m\n",
            "\u001b[0m"
          ]
        }
      ]
    },
    {
      "cell_type": "code",
      "execution_count": 10,
      "id": "0c7ed3f1-78db-407c-9032-8dde9182d453",
      "metadata": {
        "id": "0c7ed3f1-78db-407c-9032-8dde9182d453",
        "colab": {
          "base_uri": "https://localhost:8080/"
        },
        "outputId": "c92cd0a7-a712-4808-fad1-5573a1a14465"
      },
      "outputs": [
        {
          "output_type": "stream",
          "name": "stderr",
          "text": [
            "WARNING:absl:No GPU/TPU found, falling back to CPU. (Set TF_CPP_MIN_LOG_LEVEL=0 and rerun for more info.)\n"
          ]
        }
      ],
      "source": [
        "import os\n",
        "os.environ['XLA_PYTHON_CLIENT_PREALLOCATE']='false'\n",
        "os.environ['XLA_PYTHON_CLIENT_MEM_FRACTION']='.80'\n",
        "\n",
        "import numpy as np\n",
        "import jax\n",
        "import jax.numpy as jnp\n",
        "import jax_cosmo as jc      # Jax-cosmo lib\n",
        "import pyccl as ccl         # CCL python      # just to make a plot\n",
        "import jemupk  as emu  # Jax Emulator of CLASS"
      ]
    },
    {
      "cell_type": "code",
      "execution_count": 11,
      "id": "db2d25c3-d77f-4190-807e-090224f15d8e",
      "metadata": {
        "id": "db2d25c3-d77f-4190-807e-090224f15d8e"
      },
      "outputs": [],
      "source": [
        "import matplotlib as mpl\n",
        "import matplotlib.pyplot as plt\n",
        "mpl.rc('image', cmap='jet')\n",
        "import matplotlib.patches as mpatches\n",
        "mpl.rcParams['font.size'] = 16"
      ]
    },
    {
      "cell_type": "markdown",
      "id": "fbaf9874-0dec-4176-aa8e-65bce8efb03e",
      "metadata": {
        "id": "fbaf9874-0dec-4176-aa8e-65bce8efb03e"
      },
      "source": [
        "# Jemu parameters"
      ]
    },
    {
      "cell_type": "code",
      "execution_count": 12,
      "id": "1450e11b-36b3-4c67-8097-561ae07672cb",
      "metadata": {
        "id": "1450e11b-36b3-4c67-8097-561ae07672cb",
        "outputId": "979f911b-746a-41eb-9dd2-8322eddae544",
        "colab": {
          "base_uri": "https://localhost:8080/"
        }
      },
      "outputs": [
        {
          "output_type": "stream",
          "name": "stdout",
          "text": [
            "(k,z)-grid: 120x20\n"
          ]
        }
      ],
      "source": [
        "import settings_gfpkq_120x20  as st         # configuration file (update 2/June/22)\n",
        "print(f\"(k,z)-grid: {st.nk}x{st.nz}\")"
      ]
    },
    {
      "cell_type": "code",
      "execution_count": 13,
      "id": "febc0a30-4566-4de1-a8ac-a4b5f959c3ef",
      "metadata": {
        "id": "febc0a30-4566-4de1-a8ac-a4b5f959c3ef",
        "outputId": "d9e7b45c-c4e0-4aa8-ef91-0689c4ff063a",
        "colab": {
          "base_uri": "https://localhost:8080/"
        }
      },
      "outputs": [
        {
          "output_type": "stream",
          "name": "stdout",
          "text": [
            "Using: Omega_cdm, Omega_b, sigma8, ns, h\n"
          ]
        }
      ],
      "source": [
        "root_dir = \"./\"\n",
        "if st.sigma8:\n",
        "    print(\"Using: Omega_cdm, Omega_b, sigma8, ns, h\")\n",
        "    tag='_Omega_sig8_'  + str(st.nk) + \"x\" + str(st.nz)  \n",
        "else:\n",
        "    raise NotImplementedError(\"non-sigma8 parameter set no more in use\")\n",
        "\n",
        "load_dir = root_dir + '/pknl_components' + st.d_one_plus+tag"
      ]
    },
    {
      "cell_type": "code",
      "execution_count": 14,
      "id": "27d396b6-aa85-4b18-9260-3cbe4ee894a2",
      "metadata": {
        "id": "27d396b6-aa85-4b18-9260-3cbe4ee894a2"
      },
      "outputs": [],
      "source": [
        "# load GP material\n",
        "gp_factory = emu.GP_factory.load_gps(directory=load_dir,gp_names=[\"Pklin0\"])"
      ]
    },
    {
      "cell_type": "code",
      "execution_count": 15,
      "id": "e50f3a89-5522-4683-8c8e-e7e7c9ecfaef",
      "metadata": {
        "id": "e50f3a89-5522-4683-8c8e-e7e7c9ecfaef"
      },
      "outputs": [],
      "source": [
        "assert len(gp_factory[\"pl\"]) == st.nk"
      ]
    },
    {
      "cell_type": "code",
      "execution_count": 16,
      "id": "08ac9c8c-2415-49f9-9fb9-f4fdac45e0d6",
      "metadata": {
        "id": "08ac9c8c-2415-49f9-9fb9-f4fdac45e0d6"
      },
      "outputs": [],
      "source": [
        "assert emu.GP_factory.done"
      ]
    },
    {
      "cell_type": "markdown",
      "id": "93713dc9-a15d-40c6-9cad-fc13b4fdb8bb",
      "metadata": {
        "id": "93713dc9-a15d-40c6-9cad-fc13b4fdb8bb"
      },
      "source": [
        "# Define a cosmology parameter set"
      ]
    },
    {
      "cell_type": "code",
      "execution_count": 17,
      "id": "eb51fbd0-0805-4344-8576-83bd940d8c7b",
      "metadata": {
        "id": "eb51fbd0-0805-4344-8576-83bd940d8c7b"
      },
      "outputs": [],
      "source": [
        "h_emu = 0.6774 \n",
        "Omega_c_emu = 0.2589\n",
        "Omega_b_emu = 0.0486\n",
        "sigma8_emu = 0.8159\n",
        "n_s_emu = 0.9667\n"
      ]
    },
    {
      "cell_type": "code",
      "execution_count": 18,
      "id": "58e7730b-c0b6-4527-8061-28be90322843",
      "metadata": {
        "id": "58e7730b-c0b6-4527-8061-28be90322843"
      },
      "outputs": [],
      "source": [
        "#jax-cosmo cosmology init\n",
        "cosmo_jax = jc.Cosmology(Omega_c=Omega_c_emu, Omega_b=Omega_b_emu, \n",
        "    h=h_emu, sigma8=sigma8_emu, n_s=n_s_emu, Omega_k=0.0, w0=-1.0,wa=0.0)"
      ]
    },
    {
      "cell_type": "code",
      "execution_count": 20,
      "id": "9fc81a7d-b0ba-4249-99ba-2f6f30ec8fd9",
      "metadata": {
        "id": "9fc81a7d-b0ba-4249-99ba-2f6f30ec8fd9"
      },
      "outputs": [],
      "source": [
        "#ccl boltzmann_class\n",
        "#cosmo_ccl_bc = ccl.Cosmology(\n",
        "#    Omega_c=Omega_c_emu, Omega_b=Omega_b_emu, \n",
        "#    h=h_emu, n_s=n_s_emu, sigma8 = sigma8_emu,\n",
        "#    transfer_function='boltzmann_class', matter_power_spectrum='halofit')\n"
      ]
    },
    {
      "cell_type": "code",
      "execution_count": 21,
      "id": "28524905-69a8-4c2e-b13a-af84621ca59e",
      "metadata": {
        "id": "28524905-69a8-4c2e-b13a-af84621ca59e"
      },
      "outputs": [],
      "source": [
        "Nk=10*st.nk \n",
        "k_star = jnp.geomspace(st.k_min_h_by_Mpc, st.k_max_h_by_Mpc, Nk, endpoint=True) #h/Mpc\n",
        "kgrid = emu.jemu_st.k_train"
      ]
    },
    {
      "cell_type": "code",
      "execution_count": 22,
      "id": "2bd19c86-f400-431e-b8b0-6a1d4f36e590",
      "metadata": {
        "id": "2bd19c86-f400-431e-b8b0-6a1d4f36e590"
      },
      "outputs": [],
      "source": [
        "pk_linear_kstar = emu.linear_pk_z0(cosmo_jax, k_star)"
      ]
    },
    {
      "cell_type": "code",
      "execution_count": 27,
      "id": "0aa79408-0afc-4121-a4af-62cd7316bafd",
      "metadata": {
        "id": "0aa79408-0afc-4121-a4af-62cd7316bafd"
      },
      "outputs": [],
      "source": [
        "#pk_lin_ccl_bc = ccl.linear_matter_power(cosmo_ccl_bc, k_star*cosmo_jax.h, 1.) #last is scale factor 1=>z=0"
      ]
    },
    {
      "cell_type": "code",
      "execution_count": 29,
      "id": "a202aaa2-fa21-4fca-ab1f-2851e5293eab",
      "metadata": {
        "id": "a202aaa2-fa21-4fca-ab1f-2851e5293eab",
        "outputId": "3378fcb0-c7f9-4e74-ca4e-b97c53c9ffd0",
        "colab": {
          "base_uri": "https://localhost:8080/",
          "height": 275
        }
      },
      "outputs": [
        {
          "output_type": "display_data",
          "data": {
            "text/plain": [
              "<Figure size 432x288 with 1 Axes>"
            ],
            "image/png": "[encoded data removed]"
          },
          "metadata": {
            "needs_background": "light"
          }
        }
      ],
      "source": [
        "plt.plot(k_star,pk_linear_kstar, label=\"JemuPk\")\n",
        "#plt.plot(k_star,pk_lin_ccl_bc, label=\"CCL Boltzmann+Halo\", ls=\"--\")\n",
        "plt.yscale(\"log\")\n",
        "plt.xscale(\"log\")\n",
        "plt.legend();"
      ]
    },
    {
      "cell_type": "code",
      "execution_count": null,
      "id": "0db904aa-7776-4856-944c-151cea85e1bd",
      "metadata": {
        "id": "0db904aa-7776-4856-944c-151cea85e1bd"
      },
      "outputs": [],
      "source": []
    }
  ],
  "metadata": {
    "jupytext": {
      "text_representation": {
        "extension": ".py",
        "format_name": "light",
        "format_version": "1.5",
        "jupytext_version": "1.11.3"
      }
    },
    "kernelspec": {
      "display_name": "jaxccl",
      "language": "python",
      "name": "jaxccl"
    },
    "language_info": {
      "codemirror_mode": {
        "name": "ipython",
        "version": 3
      },
      "file_extension": ".py",
      "mimetype": "text/x-python",
      "name": "python",
      "nbconvert_exporter": "python",
      "pygments_lexer": "ipython3",
      "version": "3.8.12"
    },
    "colab": {
      "provenance": [],
      "include_colab_link": true
    }
  },
  "nbformat": 4,
  "nbformat_minor": 5
}