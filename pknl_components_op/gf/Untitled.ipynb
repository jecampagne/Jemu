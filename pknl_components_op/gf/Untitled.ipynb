{
 "cells": [
  {
   "cell_type": "code",
   "execution_count": 1,
   "id": "673fc97d-45b0-42ef-8e53-b799ddcc57d3",
   "metadata": {},
   "outputs": [],
   "source": [
    "import numpy as np \n",
    "# for I/O\n",
    "import os "
   ]
  },
  {
   "cell_type": "code",
   "execution_count": 94,
   "id": "4e657811-4a06-4a97-aff0-f4f97e22417d",
   "metadata": {},
   "outputs": [],
   "source": [
    "data = None\n",
    "data = np.load(\"gp_2.npz\", allow_pickle=True)"
   ]
  },
  {
   "cell_type": "code",
   "execution_count": 95,
   "id": "fbd6a03a-5e55-4b4a-a07e-f85f0b9ff863",
   "metadata": {},
   "outputs": [
    {
     "data": {
      "text/plain": [
       "['mean_theta',\n",
       " 'x_trans',\n",
       " 'mu_matrix',\n",
       " 'kernel_hat',\n",
       " 'beta_hat',\n",
       " 'kinv_XX_res',\n",
       " 'mean_function',\n",
       " 'x_train']"
      ]
     },
     "execution_count": 95,
     "metadata": {},
     "output_type": "execute_result"
    }
   ],
   "source": [
    "data.files"
   ]
  },
  {
   "cell_type": "code",
   "execution_count": 96,
   "id": "e53dde02-29b3-4aec-af62-0ad9d23cf8cc",
   "metadata": {},
   "outputs": [
    {
     "data": {
      "text/plain": [
       "array([148.4131591 , 148.4131591 ,   5.07743754, 148.4131591 ,\n",
       "       148.4131591 ])"
      ]
     },
     "execution_count": 96,
     "metadata": {},
     "output_type": "execute_result"
    }
   ],
   "source": [
    "data[\"kernel_hat\"].item()['k_length']"
   ]
  },
  {
   "cell_type": "code",
   "execution_count": 97,
   "id": "f918baae-d28d-4d36-aaf2-c789b8e9f746",
   "metadata": {},
   "outputs": [
    {
     "data": {
      "text/plain": [
       "array([[ 4.87946103e-02],\n",
       "       [ 1.76429151e-03],\n",
       "       [ 2.01240975e-03],\n",
       "       [-1.77853398e-01],\n",
       "       [ 1.41056969e-02],\n",
       "       [-4.10800448e-03],\n",
       "       [ 1.63329171e-05],\n",
       "       [ 3.39582217e-05],\n",
       "       [ 5.42802555e-02],\n",
       "       [-5.44542459e-04],\n",
       "       [ 1.70331475e-05]])"
      ]
     },
     "execution_count": 97,
     "metadata": {},
     "output_type": "execute_result"
    }
   ],
   "source": [
    "data[\"beta_hat\"]"
   ]
  },
  {
   "cell_type": "code",
   "execution_count": null,
   "id": "101722cb-40f2-470e-83c6-cdc829614c85",
   "metadata": {},
   "outputs": [],
   "source": []
  }
 ],
 "metadata": {
  "jupytext": {
   "text_representation": {
    "extension": ".py",
    "format_name": "light",
    "format_version": "1.5",
    "jupytext_version": "1.11.3"
   }
  },
  "kernelspec": {
   "display_name": "jaxcosmo",
   "language": "python",
   "name": "jaxcosmo"
  },
  "language_info": {
   "codemirror_mode": {
    "name": "ipython",
    "version": 3
   },
   "file_extension": ".py",
   "mimetype": "text/x-python",
   "name": "python",
   "nbconvert_exporter": "python",
   "pygments_lexer": "ipython3",
   "version": "3.8.12"
  }
 },
 "nbformat": 4,
 "nbformat_minor": 5
}
