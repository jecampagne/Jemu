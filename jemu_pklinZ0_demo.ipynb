{
 "cells": [
  {
   "cell_type": "code",
   "execution_count": 135,
   "id": "0c7ed3f1-78db-407c-9032-8dde9182d453",
   "metadata": {},
   "outputs": [],
   "source": [
    "import os\n",
    "os.environ['XLA_PYTHON_CLIENT_PREALLOCATE']='false'\n",
    "os.environ['XLA_PYTHON_CLIENT_MEM_FRACTION']='.80'\n",
    "\n",
    "import numpy as np\n",
    "import jax\n",
    "import jax.numpy as jnp\n",
    "import jax_cosmo as jc      # Jax-cosmo lib\n",
    "import pyccl as ccl         # CCL python      # just to make a plot\n",
    "import jemupk  as emu  # Jax Emulator of CLASS"
   ]
  },
  {
   "cell_type": "code",
   "execution_count": 136,
   "id": "db2d25c3-d77f-4190-807e-090224f15d8e",
   "metadata": {},
   "outputs": [],
   "source": [
    "import matplotlib as mpl\n",
    "import matplotlib.pyplot as plt\n",
    "mpl.rc('image', cmap='jet')\n",
    "import matplotlib.patches as mpatches\n",
    "mpl.rcParams['font.size'] = 16"
   ]
  },
  {
   "cell_type": "markdown",
   "id": "fbaf9874-0dec-4176-aa8e-65bce8efb03e",
   "metadata": {},
   "source": [
    "# Jemu parameters"
   ]
  },
  {
   "cell_type": "code",
   "execution_count": 137,
   "id": "1450e11b-36b3-4c67-8097-561ae07672cb",
   "metadata": {},
   "outputs": [
    {
     "name": "stdout",
     "output_type": "stream",
     "text": [
      "(k,z)-grid: 120x20\n"
     ]
    }
   ],
   "source": [
    "import settings_gfpkq_120x20  as st         # configuration file (update 2/June/22)\n",
    "print(f\"(k,z)-grid: {st.nk}x{st.nz}\")"
   ]
  },
  {
   "cell_type": "code",
   "execution_count": 138,
   "id": "febc0a30-4566-4de1-a8ac-a4b5f959c3ef",
   "metadata": {},
   "outputs": [
    {
     "name": "stdout",
     "output_type": "stream",
     "text": [
      "Using: Omega_cdm, Omega_b, sigma8, ns, h\n"
     ]
    }
   ],
   "source": [
    "root_dir = \"./\"\n",
    "if st.sigma8:\n",
    "    print(\"Using: Omega_cdm, Omega_b, sigma8, ns, h\")\n",
    "    tag='_Omega_sig8_'  + str(st.nk) + \"x\" + str(st.nz)  \n",
    "else:\n",
    "    raise NotImplementedError(\"non-sigma8 parameter set no more in use\")\n",
    "\n",
    "load_dir = root_dir + '/pknl_components' + st.d_one_plus+tag"
   ]
  },
  {
   "cell_type": "code",
   "execution_count": 139,
   "id": "27d396b6-aa85-4b18-9260-3cbe4ee894a2",
   "metadata": {},
   "outputs": [],
   "source": [
    "# load GP material\n",
    "gp_factory = emu.GP_factory.load_gps(directory=load_dir,gp_names=[\"Pklin0\"])"
   ]
  },
  {
   "cell_type": "code",
   "execution_count": 140,
   "id": "e50f3a89-5522-4683-8c8e-e7e7c9ecfaef",
   "metadata": {},
   "outputs": [],
   "source": [
    "assert len(gp_factory[\"pl\"]) == st.nk"
   ]
  },
  {
   "cell_type": "code",
   "execution_count": 141,
   "id": "08ac9c8c-2415-49f9-9fb9-f4fdac45e0d6",
   "metadata": {},
   "outputs": [],
   "source": [
    "assert emu.GP_factory.done"
   ]
  },
  {
   "cell_type": "markdown",
   "id": "93713dc9-a15d-40c6-9cad-fc13b4fdb8bb",
   "metadata": {},
   "source": [
    "# Define a cosmology parameter set"
   ]
  },
  {
   "cell_type": "code",
   "execution_count": 142,
   "id": "eb51fbd0-0805-4344-8576-83bd940d8c7b",
   "metadata": {},
   "outputs": [],
   "source": [
    "h_emu = 0.6774 \n",
    "Omega_c_emu = 0.2589\n",
    "Omega_b_emu = 0.0486\n",
    "sigma8_emu = 0.8159\n",
    "n_s_emu = 0.9667\n"
   ]
  },
  {
   "cell_type": "code",
   "execution_count": 143,
   "id": "58e7730b-c0b6-4527-8061-28be90322843",
   "metadata": {},
   "outputs": [],
   "source": [
    "#jax-cosmo cosmology init\n",
    "cosmo_jax = jc.Cosmology(Omega_c=Omega_c_emu, Omega_b=Omega_b_emu, \n",
    "    h=h_emu, sigma8=sigma8_emu, n_s=n_s_emu, Omega_k=0.0, w0=-1.0,wa=0.0)"
   ]
  },
  {
   "cell_type": "code",
   "execution_count": 144,
   "id": "9fc81a7d-b0ba-4249-99ba-2f6f30ec8fd9",
   "metadata": {},
   "outputs": [],
   "source": [
    "#ccl boltzmann_class\n",
    "cosmo_ccl_bc = ccl.Cosmology(\n",
    "    Omega_c=Omega_c_emu, Omega_b=Omega_b_emu, \n",
    "    h=h_emu, n_s=n_s_emu, sigma8 = sigma8_emu,\n",
    "    transfer_function='boltzmann_class', matter_power_spectrum='halofit')\n"
   ]
  },
  {
   "cell_type": "code",
   "execution_count": 145,
   "id": "28524905-69a8-4c2e-b13a-af84621ca59e",
   "metadata": {},
   "outputs": [],
   "source": [
    "Nk=10*st.nk \n",
    "k_star = jnp.geomspace(st.k_min_h_by_Mpc, st.k_max_h_by_Mpc, Nk, endpoint=True) #h/Mpc\n",
    "kgrid = emu.jemu_st.k_train"
   ]
  },
  {
   "cell_type": "code",
   "execution_count": 146,
   "id": "2bd19c86-f400-431e-b8b0-6a1d4f36e590",
   "metadata": {},
   "outputs": [
    {
     "name": "stdout",
     "output_type": "stream",
     "text": [
      "GP factory make: done= True\n"
     ]
    }
   ],
   "source": [
    "pk_linear_kstar = emu.linear_pk_z0(cosmo_jax, k_star)"
   ]
  },
  {
   "cell_type": "code",
   "execution_count": 148,
   "id": "0aa79408-0afc-4121-a4af-62cd7316bafd",
   "metadata": {},
   "outputs": [],
   "source": [
    "pk_lin_ccl_bc = ccl.linear_matter_power(cosmo_ccl_bc, k_star*cosmo_jax.h, 1.) #last is scale factor 1=>z=0"
   ]
  },
  {
   "cell_type": "code",
   "execution_count": 149,
   "id": "a202aaa2-fa21-4fca-ab1f-2851e5293eab",
   "metadata": {},
   "outputs": [
    {
     "data": {
      "text/plain": [
       "<matplotlib.legend.Legend at 0x7f37ad32de50>"
      ]
     },
     "execution_count": 149,
     "metadata": {},
     "output_type": "execute_result"
    },
    {
     "data": {
      "image/png": "[encoded data removed]",
      "text/plain": [
       "<Figure size 640x480 with 1 Axes>"
      ]
     },
     "metadata": {},
     "output_type": "display_data"
    }
   ],
   "source": [
    "plt.plot(k_star,pk_linear_kstar, label=\"JemuPk\")\n",
    "plt.plot(k_star,pk_lin_ccl_bc_kstar, label=\"CCL Boltzmann+Halo\", ls=\"--\")\n",
    "plt.yscale(\"log\")\n",
    "plt.xscale(\"log\")\n",
    "plt.legend();"
   ]
  },
  {
   "cell_type": "code",
   "execution_count": null,
   "id": "0db904aa-7776-4856-944c-151cea85e1bd",
   "metadata": {},
   "outputs": [],
   "source": []
  }
 ],
 "metadata": {
  "jupytext": {
   "text_representation": {
    "extension": ".py",
    "format_name": "light",
    "format_version": "1.5",
    "jupytext_version": "1.11.3"
   }
  },
  "kernelspec": {
   "display_name": "jaxccl",
   "language": "python",
   "name": "jaxccl"
  },
  "language_info": {
   "codemirror_mode": {
    "name": "ipython",
    "version": 3
   },
   "file_extension": ".py",
   "mimetype": "text/x-python",
   "name": "python",
   "nbconvert_exporter": "python",
   "pygments_lexer": "ipython3",
   "version": "3.8.12"
  }
 },
 "nbformat": 4,
 "nbformat_minor": 5
}
