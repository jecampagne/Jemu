{
 "cells": [
  {
   "cell_type": "code",
   "execution_count": 2,
   "id": "496c406a-2d30-49f1-8b39-32eb8df86a53",
   "metadata": {},
   "outputs": [],
   "source": [
    "import numpy as np\n",
    "\n",
    "import matplotlib as mpl\n",
    "import matplotlib.pyplot as plt\n",
    "mpl.rc('image', cmap='jet')\n",
    "mpl.rcParams['font.size'] = 20\n",
    "import matplotlib.patches as mpatches\n",
    "\n",
    "from timeit import default_timer as timer\n",
    "\n",
    "import my_settings  as st         # configuration file\n",
    "from helper import *              # load/save   \n",
    "import util as ut              # utility function\n",
    "# Simple non zero mean Gaussian Process class adapted for the emulator\n",
    "from gaussproc_emu import *"
   ]
  },
  {
   "cell_type": "markdown",
   "id": "1b83207a-3248-4759-bfad-af814530a235",
   "metadata": {},
   "source": [
    "# Predict all..."
   ]
  },
  {
   "cell_type": "markdown",
   "id": "6871f265-1876-46af-b651-53324cccf72d",
   "metadata": {},
   "source": [
    "# Start by loading the training results"
   ]
  },
  {
   "cell_type": "code",
   "execution_count": 3,
   "id": "2228ecb7-9ed8-4316-a5f5-2910e9c9ead1",
   "metadata": {},
   "outputs": [],
   "source": [
    "root_dir = \"./\""
   ]
  },
  {
   "cell_type": "code",
   "execution_count": 4,
   "id": "e3bbe27e-84ec-4728-9f98-c633d7a86c76",
   "metadata": {},
   "outputs": [
    {
     "name": "stdout",
     "output_type": "stream",
     "text": [
      "Cosmo: nber of training Cosmo points 1000 for 5 params\n"
     ]
    }
   ],
   "source": [
    "cosmologies = load_arrays(root_dir + 'trainingset/components', 'cosmologies')\n",
    "print(f\"Cosmo: nber of training Cosmo points {cosmologies.shape[0]} for {cosmologies.shape[1]} params\")"
   ]
  },
  {
   "cell_type": "code",
   "execution_count": 5,
   "id": "5dece2fe-47ba-4e7a-8d7e-1920a5bd621b",
   "metadata": {},
   "outputs": [
    {
     "name": "stdout",
     "output_type": "stream",
     "text": [
      "Growth Fact: nber of training points 1000 for 20 z (linear)\n",
      "The number of GPs to model Growth=20 (= nber of z_bins) \n",
      "Linear Pk: nber of training points 1000 for 40 k (log)\n",
      "The number of GPs to model Pklin=40 (= nber of k_bins) \n",
      "Q-func: nber of training points 1000 for 800 z x k(lin,log)\n",
      "The number of GPs to model Q-func=800\n"
     ]
    }
   ],
   "source": [
    "# Growth factor\n",
    "growth_factor = load_arrays(root_dir + 'trainingset/components', 'growth_factor')\n",
    "print(f\"Growth Fact: nber of training points {growth_factor.shape[0]} for {growth_factor.shape[1]} z (linear)\")\n",
    "n_gf = growth_factor.shape[1]\n",
    "assert n_gf == st.nz, \"Growth: Hummm something strange...\"\n",
    "print(f\"The number of GPs to model Growth={n_gf} (= nber of z_bins) \")\n",
    "folder_gf = root_dir + '/pknl_components' + st.d_one_plus + '/gf'\n",
    "arg_gf = [[cosmologies, growth_factor[:, i], st.gf_args, folder_gf, 'gp_' + str(i)] for i in range(n_gf)]\n",
    "\n",
    "\n",
    "# Pk Linear \n",
    "pk_linear = load_arrays(root_dir +'trainingset/components', 'pk_linear')\n",
    "print(f\"Linear Pk: nber of training points {pk_linear.shape[0]} for {pk_linear.shape[1]} k (log)\")\n",
    "n_pl = pk_linear.shape[1]\n",
    "assert n_pl == st.nk, \"Pk lin: Hummm something strange...\"\n",
    "print(f\"The number of GPs to model Pklin={n_pl} (= nber of k_bins) \")\n",
    "folder_pl = root_dir + '/pknl_components' + st.d_one_plus + '/pl'\n",
    "arg_pl = [[cosmologies, pk_linear[:, i], st.pl_args, folder_pl, 'gp_' + str(i)] for i in range(n_pl)]\n",
    "\n",
    "# Q-func (= 1+q)\n",
    "q_function = load_arrays(root_dir +'trainingset/components', 'q_function')\n",
    "print(f\"Q-func: nber of training points {q_function.shape[0]} for {q_function.shape[1]} z x k(lin,log)\")\n",
    "n_qf = q_function.shape[1]\n",
    "assert n_qf == st.nk * st.nz, \"Qfunc: Hummm something strange...\"\n",
    "print(f\"The number of GPs to model Q-func={n_qf}\")\n",
    "folder_qf = root_dir + '/pknl_components' + st.d_one_plus + '/qf'\n",
    "if st.emu_one_plus_q:\n",
    "    arg_qf = [[cosmologies, 1.0 + q_function[:, i], st.qf_args, folder_qf, 'gp_' + str(i)] for i in range(n_qf)]\n",
    "else:\n",
    "    arg_qf = [[cosmologies, q_function[:, i], st.qf_args, folder_qf, 'gp_' + str(i)] for i in range(n_qf)]"
   ]
  },
  {
   "cell_type": "markdown",
   "id": "1e086ed1-bb33-4119-9556-219590cca0fa",
   "metadata": {},
   "source": [
    "# Test with 1 new set of cosmo para."
   ]
  },
  {
   "cell_type": "code",
   "execution_count": 6,
   "id": "cc1c321f-13db-47e4-8923-41f846c8ff70",
   "metadata": {
    "tags": []
   },
   "outputs": [
    {
     "data": {
      "text/plain": [
       "DeviceArray([0.12 , 0.022, 2.9  , 1.   , 0.75 ], dtype=float64)"
      ]
     },
     "execution_count": 6,
     "metadata": {},
     "output_type": "execute_result"
    }
   ],
   "source": [
    "par = {'omega_cdm': 0.12, 'omega_b': 0.022, 'ln10^{10}A_s': 2.9, 'n_s': 1.0, 'h': 0.75}\n",
    "\n",
    "theta_star = jnp.array([val for val in par.values()])\n",
    "\n",
    "#Omega_cdm h^2, Omega_b h^2, ln(10^10 As), ns, h\n",
    "theta_star"
   ]
  },
  {
   "cell_type": "markdown",
   "id": "60b7ffc6-36ec-46e2-908b-b006f3c3e490",
   "metadata": {},
   "source": [
    "## Growth factor"
   ]
  },
  {
   "cell_type": "code",
   "execution_count": 7,
   "id": "5d939b78-b7b6-4e57-950a-62f76e926b31",
   "metadata": {},
   "outputs": [
    {
     "data": {
      "text/plain": [
       "False"
      ]
     },
     "execution_count": 7,
     "metadata": {},
     "output_type": "execute_result"
    }
   ],
   "source": [
    "#y_trans = False\n",
    "st.gf_args['y_trans']"
   ]
  },
  {
   "cell_type": "code",
   "execution_count": 8,
   "id": "dd207d94-8be5-43b3-bbab-313dce780d4b",
   "metadata": {
    "lines_to_next_cell": 2
   },
   "outputs": [],
   "source": [
    "gf_model = GPEmu(kernel=kernel_RBF,\n",
    "                         order=st.order,\n",
    "                         x_trans=st.x_trans,\n",
    "                         y_trans=st.gf_args['y_trans'],\n",
    "                         use_mean=st.use_mean)"
   ]
  },
  {
   "cell_type": "code",
   "execution_count": 9,
   "id": "d375194f-a526-4ead-bdd2-0cd5ef6c6314",
   "metadata": {},
   "outputs": [],
   "source": [
    "pred_gf = jnp.zeros(n_gf)\n",
    "for i_gf in range(n_gf):\n",
    "    gf_model.load_info( arg_gf[i_gf][3], arg_gf[i_gf][4])\n",
    "    pred_gf_cur = gf_model.simple_predict(theta_star)\n",
    "    #print(f\"[{i_gf}]\",gf_model.kernel_hat, gf_model.beta_hat, pred_gf_cur)\n",
    "    pred_gf= pred_gf.at[i_gf].set(pred_gf_cur)"
   ]
  },
  {
   "cell_type": "code",
   "execution_count": 10,
   "id": "ec4fda41-2fb0-403a-96f8-af2fefac0d9d",
   "metadata": {},
   "outputs": [
    {
     "data": {
      "text/plain": [
       "DeviceArray([0.99999996, 0.79174472, 0.62596249, 0.49891977, 0.4025074 ,\n",
       "             0.32935536, 0.27328264, 0.22975057, 0.19561521, 0.16824215,\n",
       "             0.14609959, 0.12797339, 0.11297025, 0.10042569, 0.08983944,\n",
       "             0.08083005, 0.07310333, 0.06642985, 0.06062888, 0.0555594 ],            dtype=float64)"
      ]
     },
     "execution_count": 10,
     "metadata": {},
     "output_type": "execute_result"
    }
   ],
   "source": [
    "pred_gf"
   ]
  },
  {
   "cell_type": "code",
   "execution_count": 11,
   "id": "6ed52e78-79f9-4b5c-8514-92bb3e15ec00",
   "metadata": {},
   "outputs": [
    {
     "data": {
      "image/png": "[encoded data removed]",
      "text/plain": [
       "<Figure size 432x288 with 1 Axes>"
      ]
     },
     "metadata": {
      "needs_background": "light"
     },
     "output_type": "display_data"
    }
   ],
   "source": [
    "# training redshifts\n",
    "zs=jnp.linspace(st.zmin, st.zmax, st.nz, endpoint=True)\n",
    "\n",
    "z_new = jnp.linspace(st.zmin, st.zmax, 200, endpoint=True)\n",
    "gf_new = jax.numpy.interp(z_new, zs, pred_gf)\n",
    "\n",
    "plt.scatter(zs, pred_gf, label=r\"$D(\\Theta_\\ast, z_{train})$\")\n",
    "plt.plot(z_new,gf_new,c=\"r\", label=r\"$D(\\Theta_\\ast,z_\\ast)$\")\n",
    "plt.legend()\n",
    "plt.xlabel(\"z\")\n",
    "plt.title(\"Growth Factor\")\n",
    "plt.grid();"
   ]
  },
  {
   "cell_type": "markdown",
   "id": "e876e304-dee2-4bd9-ba88-5bc16094fe46",
   "metadata": {},
   "source": [
    "# Linear Pk"
   ]
  },
  {
   "cell_type": "code",
   "execution_count": 12,
   "id": "cd4425ac-4450-4910-a5c8-3493aebd2986",
   "metadata": {},
   "outputs": [
    {
     "data": {
      "text/plain": [
       "True"
      ]
     },
     "execution_count": 12,
     "metadata": {},
     "output_type": "execute_result"
    }
   ],
   "source": [
    "st.pl_args['y_trans']"
   ]
  },
  {
   "cell_type": "code",
   "execution_count": 13,
   "id": "54d2ebf9-57cc-4b73-937d-acbc5ec2d345",
   "metadata": {
    "lines_to_next_cell": 2
   },
   "outputs": [],
   "source": [
    "pl_model = GPEmu(kernel=kernel_RBF,\n",
    "                         order=st.order,\n",
    "                         x_trans=st.x_trans,\n",
    "                         y_trans=st.pl_args['y_trans'],\n",
    "                         use_mean=st.use_mean)"
   ]
  },
  {
   "cell_type": "code",
   "execution_count": 14,
   "id": "9c1d3f46-40a4-4828-aba7-73623a398643",
   "metadata": {},
   "outputs": [],
   "source": [
    "pred_pl = jnp.zeros(n_pl)\n",
    "for i_pl in range(n_pl):\n",
    "    pl_model.load_info(arg_pl[i_pl][3], arg_pl[i_pl][4])\n",
    "    pred_pl_cur = pl_model.pred_original_function(theta_star)\n",
    "    #print(f\"[{i_gf}]\",gf_model.kernel_hat, gf_model.beta_hat, pred_gf_cur)\n",
    "    pred_pl= pred_pl.at[i_pl].set(pred_pl_cur)"
   ]
  },
  {
   "cell_type": "code",
   "execution_count": 15,
   "id": "4a6c72c4-1a61-4a5b-8f18-340c86fd8727",
   "metadata": {},
   "outputs": [],
   "source": [
    "# training k\n",
    "ks = np.geomspace(st.k_min_h_by_Mpc, st.kmax, st.nk, endpoint=True)"
   ]
  },
  {
   "cell_type": "code",
   "execution_count": 16,
   "id": "4b9e8ffa-2cd6-4dc8-b1a0-e5ce9cd56b00",
   "metadata": {},
   "outputs": [],
   "source": [
    "k_new = jnp.geomspace(st.k_min_h_by_Mpc, st.kmax, 200, endpoint=True)\n",
    "pl_new = jax.numpy.interp(k_new, ks, pred_pl)"
   ]
  },
  {
   "cell_type": "code",
   "execution_count": 17,
   "id": "b0d07d7c-c0a4-40f4-954f-c47128c08e75",
   "metadata": {},
   "outputs": [
    {
     "data": {
      "image/png": "[encoded data removed]",
      "text/plain": [
       "<Figure size 576x576 with 1 Axes>"
      ]
     },
     "metadata": {
      "needs_background": "light"
     },
     "output_type": "display_data"
    }
   ],
   "source": [
    "plt.figure(figsize=(8,8))\n",
    "plt.scatter(ks, pred_pl, s=10,label=r\"$Pk_{lin}(\\Theta_\\ast, k_{train})$\")\n",
    "plt.plot(k_new,pl_new,c=\"r\", label=r\"$Pk_{lin}(\\Theta_\\ast,k_\\ast)$\")\n",
    "plt.legend()\n",
    "plt.xlabel(\"k\")\n",
    "plt.xscale(\"log\")\n",
    "plt.yscale(\"log\")\n",
    "plt.title(r\"$Pk_{lin} (z=0)$\")\n",
    "plt.ylim([5e-4,2e5])\n",
    "plt.grid();"
   ]
  },
  {
   "cell_type": "markdown",
   "id": "1b72aaa5-12c2-4929-93ab-f508f083cb29",
   "metadata": {},
   "source": [
    "# Q-func"
   ]
  },
  {
   "cell_type": "code",
   "execution_count": 18,
   "id": "1ee2729d-86e2-4a08-9c40-32525cad4720",
   "metadata": {},
   "outputs": [
    {
     "data": {
      "text/plain": [
       "True"
      ]
     },
     "execution_count": 18,
     "metadata": {},
     "output_type": "execute_result"
    }
   ],
   "source": [
    "st.qf_args['y_trans']"
   ]
  },
  {
   "cell_type": "code",
   "execution_count": 19,
   "id": "45890dec-ab06-4ef9-bba2-d082f68702f5",
   "metadata": {
    "lines_to_next_cell": 2
   },
   "outputs": [],
   "source": [
    "qf_model = GPEmu(kernel=kernel_RBF,\n",
    "                         order=st.order,\n",
    "                         x_trans=st.x_trans,\n",
    "                         y_trans=st.qf_args['y_trans'],          ######\n",
    "                         use_mean=st.use_mean)"
   ]
  },
  {
   "cell_type": "code",
   "execution_count": 20,
   "id": "816fcf45-70eb-45af-b651-deaa6f13d2a3",
   "metadata": {},
   "outputs": [],
   "source": [
    "pred_qf = jnp.zeros(n_qf)\n",
    "for i_qf in range(n_qf):\n",
    "    qf_model.load_info(arg_qf[i_qf][3], arg_qf[i_qf][4])\n",
    "    pred_qf_cur = qf_model.pred_original_function(theta_star)\n",
    "    pred_qf= pred_qf.at[i_qf].set(pred_qf_cur)"
   ]
  },
  {
   "cell_type": "code",
   "execution_count": 21,
   "id": "74b657a5-afb4-46b5-a151-9c6b5e37dca5",
   "metadata": {},
   "outputs": [],
   "source": [
    "pred_qf = pred_qf.reshape(st.nk, st.nz)"
   ]
  },
  {
   "cell_type": "code",
   "execution_count": 22,
   "id": "df978829-250f-408b-a45e-3ceac681b34b",
   "metadata": {},
   "outputs": [
    {
     "data": {
      "text/plain": [
       "(40, 20)"
      ]
     },
     "execution_count": 22,
     "metadata": {},
     "output_type": "execute_result"
    }
   ],
   "source": [
    "pred_qf.shape"
   ]
  },
  {
   "cell_type": "code",
   "execution_count": 23,
   "id": "8b9a4d0e-216e-4537-8af4-674823bdb23d",
   "metadata": {},
   "outputs": [
    {
     "data": {
      "text/plain": [
       "((40,), (20,))"
      ]
     },
     "execution_count": 23,
     "metadata": {},
     "output_type": "execute_result"
    }
   ],
   "source": [
    "ks.shape,zs.shape"
   ]
  },
  {
   "cell_type": "code",
   "execution_count": 24,
   "id": "678ada05-bd0b-4f40-8615-bad7691f45c5",
   "metadata": {},
   "outputs": [
    {
     "data": {
      "text/plain": [
       "array([5.00000000e-04, 6.71699666e-04, 9.02360883e-04, 1.21223101e-03,\n",
       "       1.62851033e-03, 2.18773969e-03, 2.93900804e-03, 3.94826143e-03,\n",
       "       5.30409178e-03, 7.12551335e-03, 9.57240988e-03, 1.28595690e-02,\n",
       "       1.72755365e-02, 2.32079442e-02, 3.11775367e-02, 4.18838820e-02,\n",
       "       5.62667791e-02, 7.55887535e-02, 1.01545881e-01, 1.36416669e-01,\n",
       "       1.83262062e-01, 2.46194132e-01, 3.30737032e-01, 4.44311908e-01,\n",
       "       5.96888321e-01, 8.01859372e-01, 1.07721735e+00, 1.44713306e+00,\n",
       "       1.94407759e+00, 2.61167254e+00, 3.50851914e+00, 4.71334228e+00,\n",
       "       6.33190087e+00, 8.50627140e+00, 1.14273193e+01, 1.53514531e+01,\n",
       "       2.06231319e+01, 2.77051017e+01, 3.72190151e+01, 5.00000000e+01])"
      ]
     },
     "execution_count": 24,
     "metadata": {},
     "output_type": "execute_result"
    }
   ],
   "source": [
    "ks"
   ]
  },
  {
   "cell_type": "code",
   "execution_count": 25,
   "id": "fd831d41-eb6f-455a-8a6d-0ee160b26ddf",
   "metadata": {},
   "outputs": [
    {
     "data": {
      "text/plain": [
       "DeviceArray([0.        , 0.24526316, 0.49052632, 0.73578947, 0.98105263,\n",
       "             1.22631579, 1.47157895, 1.71684211, 1.96210526, 2.20736842,\n",
       "             2.45263158, 2.69789474, 2.94315789, 3.18842105, 3.43368421,\n",
       "             3.67894737, 3.92421053, 4.16947368, 4.41473684, 4.66      ],            dtype=float64)"
      ]
     },
     "execution_count": 25,
     "metadata": {},
     "output_type": "execute_result"
    }
   ],
   "source": [
    "zs"
   ]
  },
  {
   "cell_type": "code",
   "execution_count": 26,
   "id": "f0fbc91a-b859-4bd3-a635-4104fba5fef4",
   "metadata": {},
   "outputs": [],
   "source": [
    "#interp2d (x,y,xp,yp,zp)\n",
    "#    Args:\n",
    "#        x, y: 1D arrays of point at which to interpolate. Any out-of-bounds\n",
    "#            coordinates will be clamped to lie in-bounds.\n",
    "#        xp, yp: 1D arrays of points specifying grid points where function values\n",
    "#            are provided.\n",
    "#       zp: 2D array of function values. For a function `f(x, y)` this must\n",
    "#            satisfy `zp[i, j] = f(xp[i], yp[j])`\n",
    "#    Returns:\n",
    "#        1D array `z` satisfying `z[i] = f(x[i], y[i])`."
   ]
  },
  {
   "cell_type": "code",
   "execution_count": 27,
   "id": "481aac2e-12b4-4d4e-878c-d6aac8d5450a",
   "metadata": {},
   "outputs": [],
   "source": [
    "# qf_new[i] = qf_interp[k_new[i],z_new[i]]; len(k_new)=len(z_new) \n",
    "qf_new=ut.coogan_interp2d(k_new,z_new,ks,zs,pred_qf)   \n",
    "qf_new_bis=jnp.array([ut.coogan_interp2d(k,z,ks,zs,pred_qf)  for k,z in zip(k_new,z_new)])\n",
    "qf_new_jec=jnp.array([ut.jec_interp2d(k,z,ks,zs,pred_qf) for k,z in zip(k_new,z_new)])"
   ]
  },
  {
   "cell_type": "code",
   "execution_count": 28,
   "id": "08af430f-f71f-4dbc-9d28-5cc2b89175b2",
   "metadata": {},
   "outputs": [
    {
     "data": {
      "image/png": "[encoded data removed]",
      "text/plain": [
       "<Figure size 432x288 with 1 Axes>"
      ]
     },
     "metadata": {
      "needs_background": "light"
     },
     "output_type": "display_data"
    }
   ],
   "source": [
    "plt.plot(qf_new, label=\"Coogan (a)\")\n",
    "plt.plot(qf_new_bis,ls=\"--\", label=\"Coogan (b)\")\n",
    "plt.plot(qf_new_jec,ls=\"-.\", label=\"JEC\")\n",
    "plt.xlim([140,160])\n",
    "plt.ylim([0,10])\n",
    "plt.grid()\n",
    "plt.legend();"
   ]
  },
  {
   "cell_type": "markdown",
   "id": "ad2d69d5-8cb5-4d3a-8acf-88ebdfbb4242",
   "metadata": {},
   "source": [
    "# Pk non linear at z=0.5  pour $\\Theta_\\ast$"
   ]
  },
  {
   "cell_type": "code",
   "execution_count": 29,
   "id": "25b1dfeb-2548-4961-9bcf-171c21f3eaaf",
   "metadata": {},
   "outputs": [],
   "source": [
    "z_star = 0.5\n",
    "D_star = jax.numpy.interp(z_star, zs, pred_gf)"
   ]
  },
  {
   "cell_type": "code",
   "execution_count": 30,
   "id": "9d5a35c2-9bff-43ae-a375-2e00908a9614",
   "metadata": {},
   "outputs": [
    {
     "data": {
      "text/plain": [
       "DeviceArray(0.62105526, dtype=float64)"
      ]
     },
     "execution_count": 30,
     "metadata": {},
     "output_type": "execute_result"
    }
   ],
   "source": [
    "D_star"
   ]
  },
  {
   "cell_type": "code",
   "execution_count": 31,
   "id": "dc58d374-6da8-48ce-9d31-7e1625d70ad9",
   "metadata": {},
   "outputs": [
    {
     "data": {
      "text/plain": [
       "((40,), (20,))"
      ]
     },
     "execution_count": 31,
     "metadata": {},
     "output_type": "execute_result"
    }
   ],
   "source": [
    "ks.shape, zs.shape"
   ]
  },
  {
   "cell_type": "code",
   "execution_count": 32,
   "id": "488b4a07-f485-484e-ae8c-3eb9bbf5e196",
   "metadata": {},
   "outputs": [],
   "source": [
    "z_star = 0.5\n",
    "k_star = jnp.geomspace(st.k_min_h_by_Mpc, st.kmax, 100, endpoint=True)\n",
    "pl_star_z0 = jax.numpy.interp(k_star, ks, pred_pl)\n",
    "#z_star = jnp.array([z_star]*k_star.shape[0])\n",
    "qf_star = jnp.array([ut.coogan_interp2d(k,z_star,ks,zs,pred_qf)   for k in k_star])"
   ]
  },
  {
   "cell_type": "code",
   "execution_count": 33,
   "id": "8c8645d9-7c3b-471c-a468-2d59e55b3269",
   "metadata": {},
   "outputs": [],
   "source": [
    "#qf_star"
   ]
  },
  {
   "cell_type": "code",
   "execution_count": 34,
   "id": "991a5637-9b2d-4111-a886-576f618c86d7",
   "metadata": {},
   "outputs": [
    {
     "data": {
      "text/plain": [
       "((100,), DeviceArray(0.62105526, dtype=float64), (100,))"
      ]
     },
     "execution_count": 34,
     "metadata": {},
     "output_type": "execute_result"
    }
   ],
   "source": [
    "qf_star.shape, D_star, pl_star_z0.shape"
   ]
  },
  {
   "cell_type": "code",
   "execution_count": 35,
   "id": "0fc3b8ad-2b16-41ac-a1c8-b1f40ab8477b",
   "metadata": {},
   "outputs": [],
   "source": [
    "pl_star = D_star * pl_star_z0\n",
    "pnl_star = pl_star * qf_star "
   ]
  },
  {
   "cell_type": "code",
   "execution_count": 36,
   "id": "bf28411e-5591-49f7-99a3-6b9fdb78d773",
   "metadata": {},
   "outputs": [
    {
     "data": {
      "image/png": "[encoded data removed]",
      "text/plain": [
       "<Figure size 576x576 with 1 Axes>"
      ]
     },
     "metadata": {
      "needs_background": "light"
     },
     "output_type": "display_data"
    }
   ],
   "source": [
    "plt.figure(figsize=(8,8))\n",
    "plt.scatter(k_star,pl_star, s=10, label=r\"$P_{lin}(k, \\Theta_\\ast)$\")\n",
    "plt.scatter(k_star,pnl_star, s=10,label=r\"$P_{nl}(k, \\Theta_\\ast)$\")\n",
    "plt.legend()\n",
    "plt.xscale(\"log\")\n",
    "plt.yscale(\"log\")\n",
    "plt.xlabel(r\"$k [h\\ Mpc^{-1}]$\")\n",
    "plt.ylabel(r\"$P_\\delta(k,z) [Mpc^3]$\")\n",
    "plt.grid()\n",
    "plt.title(r\"Jemu @ $z=0.5$\");"
   ]
  },
  {
   "cell_type": "code",
   "execution_count": 261,
   "id": "02974cce-995d-41ee-88f4-6d331e010f93",
   "metadata": {},
   "outputs": [],
   "source": [
    "from jemupk import *"
   ]
  },
  {
   "cell_type": "code",
   "execution_count": 262,
   "id": "5c85f9e1-f257-46fd-bbe3-9e71f350b70b",
   "metadata": {},
   "outputs": [
    {
     "name": "stdout",
     "output_type": "stream",
     "text": [
      "New Pk Emulator\n"
     ]
    }
   ],
   "source": [
    "emu = JemuPk()"
   ]
  },
  {
   "cell_type": "code",
   "execution_count": 263,
   "id": "bb1e6ed4-04e5-498c-a63f-3a6da092347d",
   "metadata": {},
   "outputs": [],
   "source": [
    "emu.load_all_gps(directory = root_dir + '/pknl_components' + st.d_one_plus)"
   ]
  },
  {
   "cell_type": "code",
   "execution_count": 264,
   "id": "5a0fa964-dff6-4b39-9aef-137f6794415a",
   "metadata": {},
   "outputs": [
    {
     "data": {
      "text/plain": [
       "DeviceArray([0.12 , 0.022, 2.9  , 1.   , 0.75 ], dtype=float64)"
      ]
     },
     "execution_count": 264,
     "metadata": {},
     "output_type": "execute_result"
    }
   ],
   "source": [
    "par = {'omega_cdm': 0.12, 'omega_b': 0.022, 'ln10^{10}A_s': 2.9, 'n_s': 1.0, 'h': 0.75}\n",
    "theta_star = jnp.array([val for val in par.values()])\n",
    "#Omega_cdm h^2, Omega_b h^2, ln(10^10 As), ns, h\n",
    "theta_star"
   ]
  },
  {
   "cell_type": "code",
   "execution_count": 265,
   "id": "87154f63-b400-4e31-8e20-2ca3427f7cda",
   "metadata": {},
   "outputs": [],
   "source": [
    "pred_gf, pred_pl, pred_qf = emu.gp_kzgrid_pred(theta_star)"
   ]
  },
  {
   "cell_type": "code",
   "execution_count": 266,
   "id": "a136f00a-c054-4c97-aa0c-1d553a595cde",
   "metadata": {},
   "outputs": [
    {
     "data": {
      "text/plain": [
       "((40, 20), (20,), (40,))"
      ]
     },
     "execution_count": 266,
     "metadata": {},
     "output_type": "execute_result"
    }
   ],
   "source": [
    "pred_gf.shape,pred_pl.shape,pred_qf.shape"
   ]
  },
  {
   "cell_type": "code",
   "execution_count": 267,
   "id": "ca0ec660-d373-485c-8f03-6657b9ebe89f",
   "metadata": {},
   "outputs": [],
   "source": [
    "N=10*st.nk \n",
    "k_star = jnp.geomspace(st.k_min_h_by_Mpc, st.kmax, N, endpoint=True)\n",
    "z_star = 0.\n",
    "pk_nl, gf, pk_lz0 = emu.interp_pk(theta_star, k_star,z_star)"
   ]
  },
  {
   "cell_type": "code",
   "execution_count": 268,
   "id": "4977ef06-51e0-4bc0-810a-3cdf5ce2cae5",
   "metadata": {
    "lines_to_next_cell": 2
   },
   "outputs": [
    {
     "data": {
      "text/plain": [
       "(100.0, 100000.0)"
      ]
     },
     "execution_count": 268,
     "metadata": {},
     "output_type": "execute_result"
    },
    {
     "data": {
      "image/png": "[encoded data removed]",
      "text/plain": [
       "<Figure size 576x576 with 1 Axes>"
      ]
     },
     "metadata": {
      "needs_background": "light"
     },
     "output_type": "display_data"
    }
   ],
   "source": [
    "plt.figure(figsize=(8,8))\n",
    "plt.plot(k_star,pk_lz0*gf, lw=3, label=r\"$P_{lin}(k, \\Theta_\\ast)$\")\n",
    "plt.plot(k_star,pk_nl, lw=1,label=r\"$P_{nl}(k, \\Theta_\\ast)$\")\n",
    "plt.legend()\n",
    "plt.xscale(\"log\")\n",
    "plt.yscale(\"log\")\n",
    "plt.xlabel(r\"$k [h\\ Mpc^{-1}]$\")\n",
    "plt.ylabel(r\"$P_\\delta(k,z) [Mpc^3]$\")\n",
    "plt.grid()\n",
    "plt.title(rf\"Jemu @ $z={z_star}$\");\n",
    "plt.xlim([1e-3,1])\n",
    "plt.ylim([1e2,1e5])"
   ]
  },
  {
   "cell_type": "markdown",
   "id": "fb9454dc-e8e7-4a9e-ba84-0aac9f31b93a",
   "metadata": {},
   "source": [
    "# Comparaison "
   ]
  },
  {
   "cell_type": "code",
   "execution_count": 269,
   "id": "16fcf68b-fcfd-48a6-8435-3df66ab2b423",
   "metadata": {},
   "outputs": [],
   "source": [
    "import jax_cosmo as jc\n",
    "import pyccl as ccl"
   ]
  },
  {
   "cell_type": "code",
   "execution_count": 270,
   "id": "15c5d08b-5af5-4bab-8b38-65b7c4692826",
   "metadata": {},
   "outputs": [],
   "source": [
    "# Sur un jeu de theta cosmo de training"
   ]
  },
  {
   "cell_type": "code",
   "execution_count": 210,
   "id": "d26b6e9f-5004-42dc-a92a-ffa93b616b61",
   "metadata": {},
   "outputs": [
    {
     "data": {
      "text/plain": [
       "array([[0.12616742, 0.02163407, 2.72607173, 1.15724975, 0.73022459],\n",
       "       [0.29972099, 0.02306631, 3.96075513, 0.86839526, 0.70286242],\n",
       "       [0.13884111, 0.02485885, 3.173544  , 1.11576076, 0.76722837],\n",
       "       ...,\n",
       "       [0.38322584, 0.02537082, 4.64441174, 0.80712803, 0.64501174],\n",
       "       [0.06389384, 0.01991875, 2.82671402, 1.28515481, 0.64342292],\n",
       "       [0.2368161 , 0.02314526, 2.96121814, 0.95206408, 0.80532434]])"
      ]
     },
     "execution_count": 210,
     "metadata": {},
     "output_type": "execute_result"
    }
   ],
   "source": [
    "cosmologies"
   ]
  },
  {
   "cell_type": "code",
   "execution_count": 235,
   "id": "89ff7423-cc09-40bd-a105-42bdf4d7c368",
   "metadata": {
    "lines_to_next_cell": 2
   },
   "outputs": [],
   "source": [
    "#Omega_cdm h^2, Omega_b h^2, ln(10^10 As), ns, h\n",
    "#cosmologies[0]=array([0.12616742, 0.02163407, 2.72607173, 1.15724975, 0.73022459])\n",
    "h_emu = 0.73022459\n",
    "omega_c_emu = 0.12616742    # omega_c h^2\n",
    "omega_b_emu = 0.02163407   #omega_b h^2\n",
    "n_s_emu = 1.15724975\n",
    "ln1010As_emu = 2.72607173\n",
    "As_emu = 10**(-10)*np.exp(ln1010As_emu)"
   ]
  },
  {
   "cell_type": "code",
   "execution_count": 236,
   "id": "80af4a22-555a-4084-991d-57e72b4069f1",
   "metadata": {
    "lines_to_next_cell": 2
   },
   "outputs": [],
   "source": [
    "#h_emu = 0.75\n",
    "#omega_c_emu = 0.12    # omega_c h^2\n",
    "#omega_b_emu = 0.022   #omega_b h^2\n",
    "#n_s_emu = 1.0\n",
    "#ln1010As_emu=2.9\n",
    "#As_emu = 10**(-10)*np.exp(ln1010As_emu)"
   ]
  },
  {
   "cell_type": "markdown",
   "id": "cc9a62c8-3c0a-444c-b2fe-511d17082967",
   "metadata": {},
   "source": [
    "## Attention: l'emulateur prend 'Omega_c h^2' et 'Omega_b h^2' contrairement à CCL et jax-cosmo "
   ]
  },
  {
   "cell_type": "code",
   "execution_count": 237,
   "id": "3d6f9af9-2284-4d52-916d-b648bb38e8e8",
   "metadata": {},
   "outputs": [],
   "source": [
    "\n",
    "\n",
    "omega_c_ccl = omega_c_emu/h_emu**2\n",
    "omega_b_ccl = omega_b_emu/h_emu**2\n",
    "\n",
    "\n",
    "sigma8_emu = ccl.Cosmology(\n",
    "    Omega_c=omega_c_ccl, Omega_b=omega_b_ccl, \n",
    "    h=h_emu, A_s=As_emu, n_s=n_s_emu, Neff=0,\n",
    "    transfer_function='boltzmann_camb').sigma8()\n",
    "\n",
    "cosmo_ccl= ccl.Cosmology(\n",
    "    Omega_c=omega_c_ccl, Omega_b=omega_b_ccl, \n",
    "    h=h_emu, sigma8=sigma8_emu, n_s=n_s_emu, Neff=0,\n",
    "    transfer_function='eisenstein_hu', matter_power_spectrum='halofit')"
   ]
  },
  {
   "cell_type": "code",
   "execution_count": 238,
   "id": "08d6af2e-d207-40ea-8d5b-3f45ffe8a7f2",
   "metadata": {},
   "outputs": [
    {
     "data": {
      "text/plain": [
       "DeviceArray([0.12616742, 0.02163407, 2.72607173, 1.15724975, 0.73022459],            dtype=float64)"
      ]
     },
     "execution_count": 238,
     "metadata": {},
     "output_type": "execute_result"
    }
   ],
   "source": [
    "params_emu = {'omega_cdm': omega_c_emu, 'omega_b': omega_b_emu, \n",
    "             'ln10^{10}A_s':ln1010As_emu , \n",
    "             'n_s': n_s_emu, 'h': h_emu}\n",
    "theta_star = jnp.array([val for val in params_emu.values()])\n",
    "#Omega_cdm h^2, Omega_b h^2, ln(10^10 As), ns, h\n",
    "theta_star"
   ]
  },
  {
   "cell_type": "code",
   "execution_count": 239,
   "id": "8092f737-cae4-4b2b-8225-9ff76754f239",
   "metadata": {},
   "outputs": [],
   "source": [
    "Nk=10*st.nk \n",
    "k_star = jnp.geomspace(5e-4, 5e1,Nk, endpoint=True)\n",
    "z_star = 1.22631579\n",
    "pk_nl, gf, pk_lz0 = emu.interp_pk(theta_star, k_star,z_star)"
   ]
  },
  {
   "cell_type": "code",
   "execution_count": 240,
   "id": "77be3efb-c8c6-4f1a-8f9c-c906bb7d6a97",
   "metadata": {},
   "outputs": [],
   "source": [
    "pk_nl /= h_emu**2\n",
    "pk_lz0 /= h_emu**2"
   ]
  },
  {
   "cell_type": "code",
   "execution_count": 241,
   "id": "5ea01b9a-5040-4da4-8c1c-8b56ba78dde9",
   "metadata": {},
   "outputs": [],
   "source": [
    "cosmo_jax = jc.Cosmology(Omega_c=omega_c_ccl, Omega_b=omega_b_ccl, \n",
    "    h=h_emu, sigma8=sigma8_emu, n_s=n_s_emu, Omega_k=0, w0=-1.0,wa=0.0)\n",
    "\n",
    "pk_lin_ccl = ccl.linear_matter_power(cosmo_ccl, k_star*cosmo_jax.h, 1./(1+z_star)) #last is scale factor 1=>z=0\n",
    "\n",
    "pk_lin_jc = jc.power.linear_matter_power(cosmo_jax,k_star, 1./(1+z_star))/cosmo_jax.h**3"
   ]
  },
  {
   "cell_type": "code",
   "execution_count": 242,
   "id": "06ac1b0a-bf32-44b9-b944-eaddae184cfb",
   "metadata": {},
   "outputs": [
    {
     "data": {
      "text/plain": [
       "(0.01, 1000000.0)"
      ]
     },
     "execution_count": 242,
     "metadata": {},
     "output_type": "execute_result"
    },
    {
     "data": {
      "image/png": "[encoded data removed]",
      "text/plain": [
       "<Figure size 720x576 with 1 Axes>"
      ]
     },
     "metadata": {
      "needs_background": "light"
     },
     "output_type": "display_data"
    }
   ],
   "source": [
    "plt.figure(figsize=(10,8))\n",
    "plt.plot(k_star,pk_lz0*gf,lw=5, label=\"Jemu\")\n",
    "plt.plot(k_star,pk_lin_jc,lw=3, label=\"jax_cosmo\")\n",
    "plt.plot(k_star,pk_lin_ccl,lw=3, ls=\"--\",label=\"ccl\")\n",
    "#plt.plot(k_star,pk_nl, lw=1,label=r\"$P_{nl}(k, \\Theta_\\ast)$\")\n",
    "plt.legend()\n",
    "plt.xscale(\"log\")\n",
    "plt.yscale(\"log\")\n",
    "plt.xlabel(r\"$k [Mpc^{-1}]$\")\n",
    "plt.ylabel(r\"$P_\\delta(k,z) [Mpc^3]$\")\n",
    "plt.grid()\n",
    "plt.title(rf\"$z={z_star}$\");\n",
    "plt.xlim([1e-3,1e2])\n",
    "plt.ylim([1e-2,1e6])"
   ]
  },
  {
   "cell_type": "code",
   "execution_count": 243,
   "id": "6b7f6066-6b46-435e-9936-f5e6c8c61774",
   "metadata": {},
   "outputs": [],
   "source": [
    "cosmo_ccl_EH= ccl.Cosmology(\n",
    "    Omega_c=omega_c_ccl, Omega_b=omega_b_ccl, \n",
    "    h=h_emu, sigma8=sigma8_emu, n_s=n_s_emu, Neff=0,\n",
    "    transfer_function='eisenstein_hu', matter_power_spectrum='halofit')\n",
    "\n",
    "\n",
    "cosmo_ccl_CAMB_nus= ccl.Cosmology(\n",
    "    Omega_c=omega_c_ccl, Omega_b=omega_b_ccl, \n",
    "    h=h_emu, sigma8=sigma8_emu, n_s=n_s_emu, m_nu=0.06, Neff=3.046,\n",
    "    transfer_function='boltzmann_camb', matter_power_spectrum='halofit')\n",
    "\n",
    "\n",
    "pk_nonlin_ccl_EH = ccl.nonlin_matter_power(cosmo_ccl_EH, k_star*cosmo_jax.h, \n",
    "                                        1./(1+z_star)) #last is scale factor 1=>z=0\n",
    "\n",
    "pk_nonlin_ccl_CAMB_nus = ccl.nonlin_matter_power(cosmo_ccl_CAMB_nus, k_star*cosmo_jax.h, \n",
    "                                        1./(1+z_star)) #last is scale factor 1=>z=0\n",
    "\n",
    "pk_nonlin_jc = jc.power.nonlinear_matter_power(cosmo_jax,k_star, \n",
    "                                               1./(1+z_star))/cosmo_jax.h**3"
   ]
  },
  {
   "cell_type": "code",
   "execution_count": 244,
   "id": "ca3f9ba3-a786-4dbd-a5c8-85aabe65fe3c",
   "metadata": {},
   "outputs": [
    {
     "data": {
      "text/plain": [
       "(0.01, 1000000.0)"
      ]
     },
     "execution_count": 244,
     "metadata": {},
     "output_type": "execute_result"
    },
    {
     "data": {
      "image/png": "[encoded data removed]",
      "text/plain": [
       "<Figure size 720x576 with 1 Axes>"
      ]
     },
     "metadata": {
      "needs_background": "light"
     },
     "output_type": "display_data"
    }
   ],
   "source": [
    "plt.figure(figsize=(10,8))\n",
    "plt.plot(k_star,pk_nl,lw=5, label=\"Jemu\")\n",
    "plt.plot(k_star,pk_nonlin_jc,lw=3, label=\"jax_cosmo\")\n",
    "plt.plot(k_star,pk_nonlin_ccl_EH,lw=3, ls=\"--\",label=\"ccl (EH+Halofit)\")\n",
    "plt.plot(k_star,pk_nonlin_ccl_CAMB_nus,lw=3, ls=\"-.\",label=\"ccl (CAMB)\")\n",
    "#plt.plot(k_star,pk_nl, lw=1,label=r\"$P_{nl}(k, \\Theta_\\ast)$\")\n",
    "plt.legend()\n",
    "plt.xscale(\"log\")\n",
    "plt.yscale(\"log\")\n",
    "plt.xlabel(r\"$k [Mpc^{-1}]$\")\n",
    "plt.ylabel(r\"$P_\\delta(k,z) [Mpc^3]$\")\n",
    "plt.grid()\n",
    "plt.title(rf\"$z={z_star}$\");\n",
    "plt.xlim([1e-3,1e2])\n",
    "plt.ylim([1e-2,1e6])"
   ]
  },
  {
   "cell_type": "code",
   "execution_count": 245,
   "id": "02ea7bb4-3475-4a2c-9061-47f2791a5a3a",
   "metadata": {},
   "outputs": [
    {
     "data": {
      "text/plain": [
       "array([0.12616742, 0.02163407, 2.72607173, 1.15724975, 0.73022459])"
      ]
     },
     "execution_count": 245,
     "metadata": {},
     "output_type": "execute_result"
    }
   ],
   "source": [
    "thetabin=0\n",
    "cosmologies[thetabin]"
   ]
  },
  {
   "cell_type": "code",
   "execution_count": 246,
   "id": "69bb4262-3414-4009-ba66-f17d2197bb72",
   "metadata": {},
   "outputs": [
    {
     "data": {
      "text/plain": [
       "DeviceArray(1.22631579, dtype=float64)"
      ]
     },
     "execution_count": 246,
     "metadata": {},
     "output_type": "execute_result"
    }
   ],
   "source": [
    "zbin=5\n",
    "zs[zbin]"
   ]
  },
  {
   "cell_type": "code",
   "execution_count": 247,
   "id": "f944327d-c163-4039-aba4-3661d728417f",
   "metadata": {},
   "outputs": [],
   "source": [
    "gF = growth_factor[thetabin,zbin]"
   ]
  },
  {
   "cell_type": "code",
   "execution_count": 248,
   "id": "2246e1a7-9836-4e76-a20b-15174fa30a5c",
   "metadata": {},
   "outputs": [],
   "source": [
    "pklinz0 = pk_linear[thetabin]"
   ]
  },
  {
   "cell_type": "code",
   "execution_count": 249,
   "id": "e5286a66-7552-42ba-b6d5-dff51e4ed086",
   "metadata": {},
   "outputs": [],
   "source": [
    "pklin= gF * pklinz0"
   ]
  },
  {
   "cell_type": "code",
   "execution_count": 250,
   "id": "983e8b7d-3172-47ee-ba3e-25a8442cac87",
   "metadata": {},
   "outputs": [],
   "source": [
    "Qf = (1+q_function[thetabin]).reshape(st.nk, st.nz)"
   ]
  },
  {
   "cell_type": "code",
   "execution_count": 251,
   "id": "c862be25-f471-4376-b3e8-d573ad03ba63",
   "metadata": {},
   "outputs": [
    {
     "data": {
      "text/plain": [
       "array([ 0.99986602,  0.99999775,  1.00011473,  1.00017474,  1.00018809,\n",
       "        1.00018066,  1.0001584 ,  1.00011355,  0.99999133,  0.9997263 ,\n",
       "        0.999335  ,  0.99872325,  0.99761778,  0.995824  ,  0.99315682,\n",
       "        0.98943443,  0.98342698,  0.9756921 ,  0.97295959,  0.96879068,\n",
       "        0.97875946,  1.01432346,  1.09366204,  1.23405339,  1.48134456,\n",
       "        1.89142029,  2.54416557,  3.54033275,  4.99061181,  6.98572256,\n",
       "        9.54117149, 12.52975519, 15.67984215, 18.70015122, 21.403456  ,\n",
       "       23.73057904, 25.72161919, 27.47079952, 29.08981738, 30.69325875])"
      ]
     },
     "execution_count": 251,
     "metadata": {},
     "output_type": "execute_result"
    }
   ],
   "source": [
    "Qf[:,zbin]"
   ]
  },
  {
   "cell_type": "code",
   "execution_count": 252,
   "id": "b3f0a204-2fc0-4aa8-b0a6-b2e5e084a2f1",
   "metadata": {},
   "outputs": [],
   "source": [
    "pknl = pklin * Qf[:,zbin]"
   ]
  },
  {
   "cell_type": "code",
   "execution_count": 253,
   "id": "aa67b601-ae74-4011-98db-41d0508352af",
   "metadata": {},
   "outputs": [],
   "source": [
    "#rescaling"
   ]
  },
  {
   "cell_type": "code",
   "execution_count": 254,
   "id": "8a32e3b6-3d73-4c32-a2b4-9cdad1905173",
   "metadata": {},
   "outputs": [],
   "source": [
    "h = cosmologies[thetabin][-1]"
   ]
  },
  {
   "cell_type": "code",
   "execution_count": 255,
   "id": "7ac50d7f-172c-4926-8b95-43c792fcca75",
   "metadata": {},
   "outputs": [
    {
     "data": {
      "text/plain": [
       "0.7302245918893255"
      ]
     },
     "execution_count": 255,
     "metadata": {},
     "output_type": "execute_result"
    }
   ],
   "source": [
    "h"
   ]
  },
  {
   "cell_type": "code",
   "execution_count": 256,
   "id": "5003c28a-b3ad-43cb-b86e-c9703406f279",
   "metadata": {},
   "outputs": [],
   "source": [
    "pklin /= h**2\n",
    "pknl /= h**2"
   ]
  },
  {
   "cell_type": "code",
   "execution_count": 257,
   "id": "5be08d21-b8ec-4367-b625-92daef5f54c5",
   "metadata": {},
   "outputs": [
    {
     "data": {
      "image/png": "[encoded data removed]",
      "text/plain": [
       "<Figure size 432x288 with 1 Axes>"
      ]
     },
     "metadata": {
      "needs_background": "light"
     },
     "output_type": "display_data"
    }
   ],
   "source": [
    "plt.scatter(ks,pklin,label='train Plin')\n",
    "plt.scatter(ks,pknl,label='train Pnl')\n",
    "plt.xscale(\"log\")\n",
    "plt.yscale(\"log\")"
   ]
  },
  {
   "cell_type": "code",
   "execution_count": 258,
   "id": "60c40226-8c82-41b3-8503-51071976ccd1",
   "metadata": {},
   "outputs": [
    {
     "data": {
      "text/plain": [
       "(0.01, 1000000.0)"
      ]
     },
     "execution_count": 258,
     "metadata": {},
     "output_type": "execute_result"
    },
    {
     "data": {
      "image/png": "[encoded data removed]",
      "text/plain": [
       "<Figure size 720x576 with 1 Axes>"
      ]
     },
     "metadata": {
      "needs_background": "light"
     },
     "output_type": "display_data"
    }
   ],
   "source": [
    "plt.figure(figsize=(10,8))\n",
    "plt.plot(k_star,pk_nl,lw=5, label=\"Jemu\")\n",
    "plt.plot(k_star,pk_nonlin_jc,lw=3, label=\"jax_cosmo\")\n",
    "plt.plot(k_star,pk_nonlin_ccl_EH,lw=3, ls=\"--\",label=\"ccl (EH+Halofit)\")\n",
    "#plt.scatter(ks,pklin,label='train Plin')\n",
    "plt.scatter(ks,pknl,label='train Pnl')\n",
    "\n",
    "#plt.plot(k_star,pk_nonlin_ccl_CAMB,lw=3, ls=\"--\",label=\"ccl (CAMB)\")\n",
    "#plt.plot(k_star,pk_nl, lw=1,label=r\"$P_{nl}(k, \\Theta_\\ast)$\")\n",
    "plt.legend()\n",
    "plt.xscale(\"log\")\n",
    "plt.yscale(\"log\")\n",
    "plt.xlabel(r\"$k [Mpc^{-1}]$\")\n",
    "plt.ylabel(r\"$P_\\delta(k,z) [Mpc^3]$\")\n",
    "plt.grid()\n",
    "plt.title(rf\"$z={zs[zbin]:.4f}$, {cosmo_jax}\");\n",
    "plt.xlim([1e-3,1e2])\n",
    "plt.ylim([1e-2,1e6])"
   ]
  },
  {
   "cell_type": "code",
   "execution_count": null,
   "id": "9a897a12-e298-4b2b-ac33-511efa547f51",
   "metadata": {},
   "outputs": [],
   "source": []
  },
  {
   "cell_type": "code",
   "execution_count": null,
   "id": "971da8d2-287e-45d9-a225-f3f2003e4c77",
   "metadata": {},
   "outputs": [],
   "source": []
  }
 ],
 "metadata": {
  "jupytext": {
   "encoding": "# -*- coding: utf-8 -*-",
   "text_representation": {
    "extension": ".py",
    "format_name": "light",
    "format_version": "1.5",
    "jupytext_version": "1.11.3"
   }
  },
  "kernelspec": {
   "display_name": "jaxccl",
   "language": "python",
   "name": "jaxccl"
  },
  "language_info": {
   "codemirror_mode": {
    "name": "ipython",
    "version": 3
   },
   "file_extension": ".py",
   "mimetype": "text/x-python",
   "name": "python",
   "nbconvert_exporter": "python",
   "pygments_lexer": "ipython3",
   "version": "3.8.12"
  }
 },
 "nbformat": 4,
 "nbformat_minor": 5
}
