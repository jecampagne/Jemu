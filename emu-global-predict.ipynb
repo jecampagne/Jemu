{
 "cells": [
  {
   "cell_type": "code",
   "execution_count": 1,
   "id": "496c406a-2d30-49f1-8b39-32eb8df86a53",
   "metadata": {},
   "outputs": [],
   "source": [
    "import numpy as np\n",
    "\n",
    "import matplotlib as mpl\n",
    "import matplotlib.pyplot as plt\n",
    "mpl.rc('image', cmap='jet')\n",
    "mpl.rcParams['font.size'] = 20\n",
    "import matplotlib.patches as mpatches\n",
    "\n",
    "from timeit import default_timer as timer\n",
    "\n",
    "import my_settings  as st         # configuration file\n",
    "from helper import *              # load/save   \n",
    "import util as ut              # utility function\n",
    "# Simple non zero mean Gaussian Process class adapted for the emulator\n",
    "from gaussproc_emu import *"
   ]
  },
  {
   "cell_type": "markdown",
   "id": "1b83207a-3248-4759-bfad-af814530a235",
   "metadata": {},
   "source": [
    "# Predict all..."
   ]
  },
  {
   "cell_type": "markdown",
   "id": "6871f265-1876-46af-b651-53324cccf72d",
   "metadata": {},
   "source": [
    "# Start by loading the training results"
   ]
  },
  {
   "cell_type": "code",
   "execution_count": 2,
   "id": "2228ecb7-9ed8-4316-a5f5-2910e9c9ead1",
   "metadata": {},
   "outputs": [],
   "source": [
    "root_dir = \"./\""
   ]
  },
  {
   "cell_type": "code",
   "execution_count": 3,
   "id": "e3bbe27e-84ec-4728-9f98-c633d7a86c76",
   "metadata": {},
   "outputs": [
    {
     "name": "stdout",
     "output_type": "stream",
     "text": [
      "Cosmo: nber of training Cosmo points 1000 for 5 params\n"
     ]
    }
   ],
   "source": [
    "cosmologies = load_arrays(root_dir + 'trainingset/components', 'cosmologies')\n",
    "print(f\"Cosmo: nber of training Cosmo points {cosmologies.shape[0]} for {cosmologies.shape[1]} params\")"
   ]
  },
  {
   "cell_type": "code",
   "execution_count": 4,
   "id": "5dece2fe-47ba-4e7a-8d7e-1920a5bd621b",
   "metadata": {},
   "outputs": [
    {
     "name": "stdout",
     "output_type": "stream",
     "text": [
      "Growth Fact: nber of training points 1000 for 20 z (linear)\n",
      "The number of GPs to model Growth=20 (= nber of z_bins) \n",
      "Linear Pk: nber of training points 1000 for 40 k (log)\n",
      "The number of GPs to model Pklin=40 (= nber of k_bins) \n",
      "Q-func: nber of training points 1000 for 800 z x k(lin,log)\n",
      "The number of GPs to model Q-func=800\n"
     ]
    }
   ],
   "source": [
    "# Growth factor\n",
    "growth_factor = load_arrays(root_dir + 'trainingset/components', 'growth_factor')\n",
    "print(f\"Growth Fact: nber of training points {growth_factor.shape[0]} for {growth_factor.shape[1]} z (linear)\")\n",
    "n_gf = growth_factor.shape[1]\n",
    "assert n_gf == st.nz, \"Growth: Hummm something strange...\"\n",
    "print(f\"The number of GPs to model Growth={n_gf} (= nber of z_bins) \")\n",
    "folder_gf = root_dir + '/pknl_components' + st.d_one_plus + '/gf'\n",
    "arg_gf = [[cosmologies, growth_factor[:, i], st.gf_args, folder_gf, 'gp_sc_' + str(i)] for i in range(n_gf)]\n",
    "\n",
    "\n",
    "# Pk Linear \n",
    "pk_linear = load_arrays(root_dir +'trainingset/components', 'pk_linear')\n",
    "print(f\"Linear Pk: nber of training points {pk_linear.shape[0]} for {pk_linear.shape[1]} k (log)\")\n",
    "n_pl = pk_linear.shape[1]\n",
    "assert n_pl == st.nk, \"Pk lin: Hummm something strange...\"\n",
    "print(f\"The number of GPs to model Pklin={n_pl} (= nber of k_bins) \")\n",
    "folder_pl = root_dir + '/pknl_components' + st.d_one_plus + '/pl'\n",
    "arg_pl = [[cosmologies, pk_linear[:, i], st.pl_args, folder_pl, 'gp_' + str(i)] for i in range(n_pl)]\n",
    "\n",
    "# Q-func (= 1+q)\n",
    "q_function = load_arrays(root_dir +'trainingset/components', 'q_function')\n",
    "print(f\"Q-func: nber of training points {q_function.shape[0]} for {q_function.shape[1]} z x k(lin,log)\")\n",
    "n_qf = q_function.shape[1]\n",
    "assert n_qf == st.nk * st.nz, \"Qfunc: Hummm something strange...\"\n",
    "print(f\"The number of GPs to model Q-func={n_qf}\")\n",
    "folder_qf = root_dir + '/pknl_components' + st.d_one_plus + '/qf'\n",
    "if st.emu_one_plus_q:\n",
    "    arg_qf = [[cosmologies, 1.0 + q_function[:, i], st.qf_args, folder_qf, 'gp_' + str(i)] for i in range(n_qf)]\n",
    "else:\n",
    "    arg_qf = [[cosmologies, q_function[:, i], st.qf_args, folder_qf, 'gp_' + str(i)] for i in range(n_qf)]"
   ]
  },
  {
   "cell_type": "markdown",
   "id": "1e086ed1-bb33-4119-9556-219590cca0fa",
   "metadata": {},
   "source": [
    "# Test with 1 new set of cosmo para."
   ]
  },
  {
   "cell_type": "code",
   "execution_count": 5,
   "id": "776f59c3-090a-4b31-b516-28d8b061dd89",
   "metadata": {
    "lines_to_next_cell": 2
   },
   "outputs": [],
   "source": [
    "par = {'omega_cdm': 0.12, 'omega_b': 0.022, 'ln10^{10}A_s': 2.9, 'n_s': 1.0, 'h': 0.75}"
   ]
  },
  {
   "cell_type": "code",
   "execution_count": 6,
   "id": "07b86eec-f37b-45b1-8485-a0925aad95d0",
   "metadata": {},
   "outputs": [],
   "source": [
    "theta_star = jnp.array([val for val in par.values()])"
   ]
  },
  {
   "cell_type": "code",
   "execution_count": 7,
   "id": "9b8bf6e8-5db3-4efc-83d0-5b7206afa5a4",
   "metadata": {},
   "outputs": [
    {
     "data": {
      "text/plain": [
       "DeviceArray([0.12 , 0.022, 2.9  , 1.   , 0.75 ], dtype=float64)"
      ]
     },
     "execution_count": 7,
     "metadata": {},
     "output_type": "execute_result"
    }
   ],
   "source": [
    "#Omega_cdm h^2, Omega_b h^2, ln(10^10 As), ns, h\n",
    "theta_star"
   ]
  },
  {
   "cell_type": "markdown",
   "id": "60b7ffc6-36ec-46e2-908b-b006f3c3e490",
   "metadata": {},
   "source": [
    "## Growth factor"
   ]
  },
  {
   "cell_type": "code",
   "execution_count": 8,
   "id": "5d939b78-b7b6-4e57-950a-62f76e926b31",
   "metadata": {},
   "outputs": [
    {
     "data": {
      "text/plain": [
       "False"
      ]
     },
     "execution_count": 8,
     "metadata": {},
     "output_type": "execute_result"
    }
   ],
   "source": [
    "#y_trans = False\n",
    "st.gf_args['y_trans']"
   ]
  },
  {
   "cell_type": "code",
   "execution_count": 9,
   "id": "dd207d94-8be5-43b3-bbab-313dce780d4b",
   "metadata": {
    "lines_to_next_cell": 2
   },
   "outputs": [],
   "source": [
    "gf_model = GPEmu(kernel=kernel_RBF,\n",
    "                         order=st.order,\n",
    "                         x_trans=st.x_trans,\n",
    "                         y_trans=st.gf_args['y_trans'],\n",
    "                         use_mean=st.use_mean)"
   ]
  },
  {
   "cell_type": "code",
   "execution_count": 10,
   "id": "d375194f-a526-4ead-bdd2-0cd5ef6c6314",
   "metadata": {},
   "outputs": [],
   "source": [
    "pred_gf = jnp.zeros(n_gf)\n",
    "for i_gf in range(n_gf):\n",
    "    gf_model.load_info( arg_gf[i_gf][3], arg_gf[i_gf][4])\n",
    "    pred_gf_cur = gf_model.simple_predict(theta_star)\n",
    "    #print(f\"[{i_gf}]\",gf_model.kernel_hat, gf_model.beta_hat, pred_gf_cur)\n",
    "    pred_gf= pred_gf.at[i_gf].set(pred_gf_cur)"
   ]
  },
  {
   "cell_type": "code",
   "execution_count": 11,
   "id": "ec4fda41-2fb0-403a-96f8-af2fefac0d9d",
   "metadata": {},
   "outputs": [
    {
     "data": {
      "text/plain": [
       "DeviceArray([0.99999996, 0.79174472, 0.62596249, 0.49891977, 0.4025074 ,\n",
       "             0.32935536, 0.27328264, 0.22975057, 0.19561521, 0.16824215,\n",
       "             0.14609959, 0.12797339, 0.11297025, 0.10042569, 0.08983944,\n",
       "             0.08083005, 0.07310333, 0.06642985, 0.06062888, 0.0555594 ],            dtype=float64)"
      ]
     },
     "execution_count": 11,
     "metadata": {},
     "output_type": "execute_result"
    }
   ],
   "source": [
    "pred_gf"
   ]
  },
  {
   "cell_type": "code",
   "execution_count": 12,
   "id": "b96da5a9-2fe6-4b06-a6b9-2a15046e46cb",
   "metadata": {},
   "outputs": [],
   "source": [
    "# training redshifts\n",
    "zs=jnp.linspace(st.zmin, st.zmax, st.nz, endpoint=True)"
   ]
  },
  {
   "cell_type": "code",
   "execution_count": 13,
   "id": "a28de64a-845a-4a5d-9bbe-3606438f3288",
   "metadata": {},
   "outputs": [],
   "source": [
    "z_new = jnp.linspace(st.zmin, st.zmax, 200, endpoint=True)\n",
    "gf_new = jax.numpy.interp(z_new, zs, pred_gf)"
   ]
  },
  {
   "cell_type": "code",
   "execution_count": 14,
   "id": "b09bec3a-8ac5-4530-84d2-47ef1a2b465b",
   "metadata": {},
   "outputs": [
    {
     "data": {
      "image/png": "[encoded data removed]",
      "text/plain": [
       "<Figure size 432x288 with 1 Axes>"
      ]
     },
     "metadata": {
      "needs_background": "light"
     },
     "output_type": "display_data"
    }
   ],
   "source": [
    "plt.scatter(zs, pred_gf, label=r\"$D(\\Theta_\\ast, z_{train})$\")\n",
    "plt.plot(z_new,gf_new,c=\"r\", label=r\"$D(\\Theta_\\ast,z_\\ast)$\")\n",
    "plt.legend()\n",
    "plt.xlabel(\"z\")\n",
    "plt.title(\"Growth Factor\")\n",
    "plt.grid();"
   ]
  },
  {
   "cell_type": "markdown",
   "id": "e876e304-dee2-4bd9-ba88-5bc16094fe46",
   "metadata": {},
   "source": [
    "# Linear Pk"
   ]
  },
  {
   "cell_type": "code",
   "execution_count": 15,
   "id": "cd4425ac-4450-4910-a5c8-3493aebd2986",
   "metadata": {},
   "outputs": [
    {
     "data": {
      "text/plain": [
       "True"
      ]
     },
     "execution_count": 15,
     "metadata": {},
     "output_type": "execute_result"
    }
   ],
   "source": [
    "st.pl_args['y_trans']"
   ]
  },
  {
   "cell_type": "code",
   "execution_count": 16,
   "id": "54d2ebf9-57cc-4b73-937d-acbc5ec2d345",
   "metadata": {
    "lines_to_next_cell": 2
   },
   "outputs": [],
   "source": [
    "pl_model = GPEmu(kernel=kernel_RBF,\n",
    "                         order=st.order,\n",
    "                         x_trans=st.x_trans,\n",
    "                         y_trans=st.pl_args['y_trans'],\n",
    "                         use_mean=st.use_mean)"
   ]
  },
  {
   "cell_type": "code",
   "execution_count": 17,
   "id": "9c1d3f46-40a4-4828-aba7-73623a398643",
   "metadata": {},
   "outputs": [],
   "source": [
    "pred_pl = jnp.zeros(n_pl)\n",
    "for i_pl in range(n_pl):\n",
    "    pl_model.load_info(arg_pl[i_pl][3], arg_pl[i_pl][4])\n",
    "    pred_pl_cur = pl_model.pred_original_function(theta_star)\n",
    "    #print(f\"[{i_gf}]\",gf_model.kernel_hat, gf_model.beta_hat, pred_gf_cur)\n",
    "    pred_pl= pred_pl.at[i_pl].set(pred_pl_cur)"
   ]
  },
  {
   "cell_type": "code",
   "execution_count": 18,
   "id": "4a6c72c4-1a61-4a5b-8f18-340c86fd8727",
   "metadata": {},
   "outputs": [],
   "source": [
    "# training k\n",
    "ks = np.geomspace(st.k_min_h_by_Mpc, st.kmax, st.nk, endpoint=True)"
   ]
  },
  {
   "cell_type": "code",
   "execution_count": 19,
   "id": "4b9e8ffa-2cd6-4dc8-b1a0-e5ce9cd56b00",
   "metadata": {},
   "outputs": [],
   "source": [
    "k_new = jnp.geomspace(st.k_min_h_by_Mpc, st.kmax, 200, endpoint=True)\n",
    "pl_new = jax.numpy.interp(k_new, ks, pred_pl)"
   ]
  },
  {
   "cell_type": "code",
   "execution_count": 20,
   "id": "b0d07d7c-c0a4-40f4-954f-c47128c08e75",
   "metadata": {},
   "outputs": [
    {
     "data": {
      "image/png": "[encoded data removed]",
      "text/plain": [
       "<Figure size 576x576 with 1 Axes>"
      ]
     },
     "metadata": {
      "needs_background": "light"
     },
     "output_type": "display_data"
    }
   ],
   "source": [
    "plt.figure(figsize=(8,8))\n",
    "plt.scatter(ks, pred_pl, s=3,label=r\"$Pk_{lin}(\\Theta_\\ast, k_{train})$\")\n",
    "plt.plot(k_new,pl_new,c=\"r\", label=r\"$Pk_{lin}(\\Theta_\\ast,k_\\ast)$\")\n",
    "plt.legend()\n",
    "plt.xlabel(\"k\")\n",
    "plt.xscale(\"log\")\n",
    "plt.yscale(\"log\")\n",
    "plt.title(r\"$Pk_{lin} (z=0)$\")\n",
    "plt.ylim([5e-4,2e5])\n",
    "plt.grid();"
   ]
  },
  {
   "cell_type": "markdown",
   "id": "1b72aaa5-12c2-4929-93ab-f508f083cb29",
   "metadata": {},
   "source": [
    "# Q-func"
   ]
  },
  {
   "cell_type": "code",
   "execution_count": 21,
   "id": "1ee2729d-86e2-4a08-9c40-32525cad4720",
   "metadata": {},
   "outputs": [
    {
     "data": {
      "text/plain": [
       "True"
      ]
     },
     "execution_count": 21,
     "metadata": {},
     "output_type": "execute_result"
    }
   ],
   "source": [
    "st.qf_args['y_trans']"
   ]
  },
  {
   "cell_type": "code",
   "execution_count": 22,
   "id": "45890dec-ab06-4ef9-bba2-d082f68702f5",
   "metadata": {
    "lines_to_next_cell": 2
   },
   "outputs": [],
   "source": [
    "qf_model = GPEmu(kernel=kernel_RBF,\n",
    "                         order=st.order,\n",
    "                         x_trans=st.x_trans,\n",
    "                         y_trans=st.qf_args['y_trans'],          ######\n",
    "                         use_mean=st.use_mean)"
   ]
  },
  {
   "cell_type": "code",
   "execution_count": 23,
   "id": "816fcf45-70eb-45af-b651-deaa6f13d2a3",
   "metadata": {},
   "outputs": [],
   "source": [
    "pred_qf = jnp.zeros(n_qf)\n",
    "for i_qf in range(n_qf):\n",
    "    qf_model.load_info(arg_qf[i_qf][3], arg_qf[i_qf][4])\n",
    "    pred_qf_cur = qf_model.pred_original_function(theta_star)\n",
    "    pred_qf= pred_qf.at[i_qf].set(pred_qf_cur)"
   ]
  },
  {
   "cell_type": "code",
   "execution_count": 24,
   "id": "74b657a5-afb4-46b5-a151-9c6b5e37dca5",
   "metadata": {},
   "outputs": [],
   "source": [
    "pred_qf = pred_qf.reshape(st.nk, st.nz)"
   ]
  },
  {
   "cell_type": "code",
   "execution_count": 25,
   "id": "df978829-250f-408b-a45e-3ceac681b34b",
   "metadata": {},
   "outputs": [
    {
     "data": {
      "text/plain": [
       "(40, 20)"
      ]
     },
     "execution_count": 25,
     "metadata": {},
     "output_type": "execute_result"
    }
   ],
   "source": [
    "pred_qf.shape"
   ]
  },
  {
   "cell_type": "code",
   "execution_count": 26,
   "id": "f0fbc91a-b859-4bd3-a635-4104fba5fef4",
   "metadata": {},
   "outputs": [],
   "source": [
    "#interp2d (x,y,xp,yp,zp)\n",
    "#    Args:\n",
    "#        x, y: 1D arrays of point at which to interpolate. Any out-of-bounds\n",
    "#            coordinates will be clamped to lie in-bounds.\n",
    "#        xp, yp: 1D arrays of points specifying grid points where function values\n",
    "#            are provided.\n",
    "#       zp: 2D array of function values. For a function `f(x, y)` this must\n",
    "#            satisfy `zp[i, j] = f(xp[i], yp[j])`\n",
    "#    Returns:\n",
    "#        1D array `z` satisfying `z[i] = f(x[i], y[i])`."
   ]
  },
  {
   "cell_type": "code",
   "execution_count": 27,
   "id": "481aac2e-12b4-4d4e-878c-d6aac8d5450a",
   "metadata": {},
   "outputs": [],
   "source": [
    "# qf_new[i] = qf_interp[k_new[i],z_new[i]]; len(k_new)=len(z_new) \n",
    "qf_new=ut.interp2d(k_new,z_new,ks,zs,pred_qf)   "
   ]
  },
  {
   "cell_type": "markdown",
   "id": "ad2d69d5-8cb5-4d3a-8acf-88ebdfbb4242",
   "metadata": {},
   "source": [
    "# Pk non linear at z=0.5  pour $\\Theta_\\ast$"
   ]
  },
  {
   "cell_type": "code",
   "execution_count": 28,
   "id": "25b1dfeb-2548-4961-9bcf-171c21f3eaaf",
   "metadata": {},
   "outputs": [],
   "source": [
    "z_star = 0.5\n",
    "D_star = jax.numpy.interp(z_star, zs, pred_gf)"
   ]
  },
  {
   "cell_type": "code",
   "execution_count": 29,
   "id": "9d5a35c2-9bff-43ae-a375-2e00908a9614",
   "metadata": {},
   "outputs": [
    {
     "data": {
      "text/plain": [
       "DeviceArray(0.62105526, dtype=float64)"
      ]
     },
     "execution_count": 29,
     "metadata": {},
     "output_type": "execute_result"
    }
   ],
   "source": [
    "D_star"
   ]
  },
  {
   "cell_type": "code",
   "execution_count": 30,
   "id": "488b4a07-f485-484e-ae8c-3eb9bbf5e196",
   "metadata": {},
   "outputs": [],
   "source": [
    "k_star = jnp.geomspace(st.k_min_h_by_Mpc, st.kmax, 10000, endpoint=True)\n",
    "pl_star_z0 = jax.numpy.interp(k_star, ks, pred_pl)\n",
    "z_star = jnp.array([z_star]*k_star.shape[0])\n",
    "qf_star = ut.interp2d(k_star,z_star,ks,zs,pred_qf)   "
   ]
  },
  {
   "cell_type": "code",
   "execution_count": 31,
   "id": "0fc3b8ad-2b16-41ac-a1c8-b1f40ab8477b",
   "metadata": {},
   "outputs": [],
   "source": [
    "pl_star = D_star * pl_star_z0\n",
    "pnl_star = pl_star * qf_star "
   ]
  },
  {
   "cell_type": "code",
   "execution_count": 32,
   "id": "bf28411e-5591-49f7-99a3-6b9fdb78d773",
   "metadata": {},
   "outputs": [
    {
     "data": {
      "image/png": "[encoded data removed]",
      "text/plain": [
       "<Figure size 576x576 with 1 Axes>"
      ]
     },
     "metadata": {
      "needs_background": "light"
     },
     "output_type": "display_data"
    }
   ],
   "source": [
    "plt.figure(figsize=(8,8))\n",
    "plt.scatter(k_star,pl_star, s=3, label=r\"$P_{lin}(k, \\Theta_\\ast)$\")\n",
    "plt.scatter(k_star,pnl_star, s=3,label=r\"$P_{nl}(k, \\Theta_\\ast)$\")\n",
    "plt.legend()\n",
    "plt.xscale(\"log\")\n",
    "plt.yscale(\"log\")\n",
    "plt.xlabel(r\"$k [h\\ Mpc^{-1}]$\")\n",
    "plt.ylabel(r\"$P_\\delta(k,z) [Mpc^3]$\")\n",
    "plt.grid()\n",
    "plt.title(r\"Jemu @ $z=0.5$\");"
   ]
  },
  {
   "cell_type": "code",
   "execution_count": null,
   "id": "12f9cb7f-0041-44e1-99ab-4970e079addd",
   "metadata": {},
   "outputs": [],
   "source": []
  }
 ],
 "metadata": {
  "jupytext": {
   "text_representation": {
    "extension": ".py",
    "format_name": "light",
    "format_version": "1.5",
    "jupytext_version": "1.11.3"
   }
  },
  "kernelspec": {
   "display_name": "jaxcosmo",
   "language": "python",
   "name": "jaxcosmo"
  },
  "language_info": {
   "codemirror_mode": {
    "name": "ipython",
    "version": 3
   },
   "file_extension": ".py",
   "mimetype": "text/x-python",
   "name": "python",
   "nbconvert_exporter": "python",
   "pygments_lexer": "ipython3",
   "version": "3.8.12"
  }
 },
 "nbformat": 4,
 "nbformat_minor": 5
}
